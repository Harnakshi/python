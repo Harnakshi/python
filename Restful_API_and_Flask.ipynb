{
  "nbformat": 4,
  "nbformat_minor": 0,
  "metadata": {
    "colab": {
      "provenance": []
    },
    "kernelspec": {
      "name": "python3",
      "display_name": "Python 3"
    },
    "language_info": {
      "name": "python"
    }
  },
  "cells": [
    {
      "cell_type": "markdown",
      "source": [
        "**Restful** **API** **&** **Flask**"
      ],
      "metadata": {
        "id": "ePjg-KchqK-5"
      }
    },
    {
      "cell_type": "markdown",
      "source": [
        "1. What is a RESTful API ?\n",
        "\n",
        "      A RESTful API (Representational State Transfer API) is a type of web service that follows the REST architectural style for communication between client and server over the internet, usually using HTTP."
      ],
      "metadata": {
        "id": "yoKd_NPtqySJ"
      }
    },
    {
      "cell_type": "markdown",
      "source": [
        "2.  Explain the concept of API specification .\n",
        "\n",
        "       An API specification is a detailed description of how an API works.\n",
        "       It acts like a blueprint or contract between the client (who consumes the API) and the server (who provides it).\n",
        "\n",
        "       It defines:\n",
        "\n",
        "       What endpoints exist\n",
        "\n",
        "       What inputs are required (parameters, request body, headers)\n",
        "\n",
        "       What outputs are returned (response format, status codes, errors)\n",
        "\n",
        "       What rules must be followed"
      ],
      "metadata": {
        "id": "8PdAREIWsH1_"
      }
    },
    {
      "cell_type": "markdown",
      "source": [
        "3. What is Flask, and why is it popular for building APIs ?\n",
        "\n",
        "      Flask is a lightweight, open-source web framework written in Python.It’s called a microframework because it provides only the core tools to build web applications and APIs, without unnecessary built-in feature.Developers can extend it with plugins and libraries as needed.\n",
        "\n",
        "      why is it popular for building API ?\n",
        "        \n",
        "      1.  Simplicity & Minimalism\n",
        "\n",
        "          Flask is easy to learn and use, even for beginners.\n",
        "\n",
        "          It doesn’t force a specific project structure, giving developers flexibility.\n",
        "\n",
        "      2. Lightweight (Microframework)\n",
        "\n",
        "         Only the essentials are included (routing, request/response handling).\n",
        "\n",
        "         You add only what you need (e.g., database, authentication, etc."
      ],
      "metadata": {
        "id": "uzqR655TsY8Q"
      }
    },
    {
      "cell_type": "markdown",
      "source": [
        "4. What is routing in Flask ?\n",
        "  \n",
        "    In Flask, routing is the process of mapping a URL (web address) to a specific function in your Python code.When a user visits a URL (like /hello), Flask decides which function to run based on the route definition.These functions are often called view functions or route handlers."
      ],
      "metadata": {
        "id": "RTw_QT9Xs2ku"
      }
    },
    {
      "cell_type": "markdown",
      "source": [
        "5. How do you create a simple Flask application ?\n",
        "\n",
        "      1. Install Flask\n",
        "\n",
        "      2. Create app.py\n",
        "\n",
        "      3. Define routes with @app.route()\n",
        "\n",
        "      4. Run the app with python app.py\n",
        "\n",
        "      5. Access it in the browser at http://127.0.0.1:5000/"
      ],
      "metadata": {
        "id": "cNOgfIz_tnGQ"
      }
    },
    {
      "cell_type": "markdown",
      "source": [
        "6. What are HTTP methods used in RESTful APIs ?\n",
        "   \n",
        "    1. GET → Read / Retrieve data\n",
        "\n",
        "       Used to fetch data from the server.\n",
        "\n",
        "       Should not change server data (safe & idempotent)\n",
        "\n",
        "    2. POST → Create new data\n",
        "\n",
        "          Used to send new data to the server.\n",
        "\n",
        "          Usually creates a new resource.\n",
        "\n",
        "          Not idempotent (repeating the request creates multiple entries)."
      ],
      "metadata": {
        "id": "DAW1V3mVuG2N"
      }
    },
    {
      "cell_type": "markdown",
      "source": [
        "7. What is the purpose of the @app.route() decorator in Flask ?\n",
        "\n",
        "      In Flask, the @app.route() decorator is used to bind a URL path (route) to a Python function.\n",
        "\n",
        "      When someone visits that URL in the browser (or via an API call), Flask executes the corresponding function.\n",
        "\n",
        "      That function then returns the response (HTML, text, JSON, etc.) to the client.\n",
        "\n",
        "    "
      ],
      "metadata": {
        "id": "5VKsrbKvulkD"
      }
    },
    {
      "cell_type": "markdown",
      "source": [
        "8.  What is the difference between GET and POST HTTP methods ?\n",
        "\n",
        "      1. Purpose\n",
        "\n",
        "         GET → Retrieve (read) data from the server.\n",
        "\n",
        "         POST → Send (create) new data to the server.\n",
        "\n",
        "      2. Where Data is Sent\n",
        "\n",
        "         GET → Data is sent in the URL (query parameters).\n",
        "\n",
        "         POST → Data is sent in the request body.\n",
        "\n",
        "         Example (JSON body):"
      ],
      "metadata": {
        "id": "8FmPPcOJvH88"
      }
    },
    {
      "cell_type": "markdown",
      "source": [
        "9.  How do you handle errors in Flask APIs ?\n",
        "\n",
        "      * Always return JSON errors in APIs (not HTML).\n",
        "\n",
        "      * Use meaningful HTTP status codes (400, 404, 401, 500).\n",
        "\n",
        "      * Provide clear error messages so clients can fix requests.\n",
        "\n",
        "      * Log errors on the server for debugging."
      ],
      "metadata": {
        "id": "DY_VlHisu6zV"
      }
    },
    {
      "cell_type": "markdown",
      "source": [
        "10. How do you connect Flask to a SQL database ?\n",
        "\n",
        "       1. Using Raw SQL (with sqlite3 or mysql.connector)\n",
        "\n",
        "          Flask is just Python, so you can use Python’s database libraries directly.\n",
        "\n",
        "      2.  Using Flask-SQLAlchemy (Recommended)\n",
        "\n",
        "            Flask-SQLAlchemy is the most popular way because it provides an ORM (Object Relational Mapper).\n",
        "\n",
        "            Lets you work with Python classes instead of raw SQL queries.\n",
        "\n",
        "            Cleaner, scalable, and works with SQLite, MySQL, PostgreSQL, etc."
      ],
      "metadata": {
        "id": "ca-sKXB1wMT5"
      }
    },
    {
      "cell_type": "markdown",
      "source": [
        "11. What is the role of Flask-SQLAlchemy ?\n",
        "\n",
        "      Flask-SQLAlchemy is a Flask extension that integrates SQLAlchemy (a powerful Python ORM) with Flask.\n",
        "\n",
        "      SQLAlchemy = A Python ORM (Object Relational Mapper) that lets you interact with databases using Python classes and objects instead of raw SQL queries.\n",
        "\n",
        "      Flask-SQLAlchemy = A lightweight wrapper that makes SQLAlchemy easier to use inside Flask applications."
      ],
      "metadata": {
        "id": "GSjaqq2Sw9aZ"
      }
    },
    {
      "cell_type": "markdown",
      "source": [
        "12.  What are Flask blueprints, and how are they useful ?\n",
        "\n",
        "        In Flask, a Blueprint is a way to organize related routes, views, templates, and static files into modular components.\n",
        "\n",
        "        Modularity :\n",
        "\n",
        "        Keeps code organized (separate files for authentication, API, admin, etc.).\n",
        "\n",
        "        Reusability :\n",
        "\n",
        "        A blueprint can be reused across multiple applications.\n",
        "\n",
        "        Collaboration :\n",
        "\n",
        "        Makes it easier for teams to work on different features independently"
      ],
      "metadata": {
        "id": "QVNC7w4pxNfR"
      }
    },
    {
      "cell_type": "markdown",
      "source": [
        "13.  What is the purpose of Flask's request object ?\n",
        "\n",
        "        In Flask, the request object (from flask module) represents the HTTP request sent by the client (browser, API client, mobile app) to your Flask server.\n",
        "\n",
        "        It holds all the data that comes from the client to the server, such as:\n",
        "\n",
        "        Form data\n",
        "\n",
        "        Query parameters\n",
        "\n",
        "        JSON body\n",
        "\n",
        "        Cookies\n",
        "\n",
        "        The request object gives you access to the incoming request data."
      ],
      "metadata": {
        "id": "bGBnbdVFxmiv"
      }
    },
    {
      "cell_type": "markdown",
      "source": [
        "14.  How do you create a RESTful API endpoint using Flask ?\n",
        "\n",
        "      *  Use @app.route() to define the URL and HTTP methods.\n",
        "\n",
        "      *  Use the request object to handle incoming data.\n",
        "\n",
        "      *  Return JSON responses with jsonify().\n",
        "\n",
        "      *  Use proper HTTP methods (GET, POST, PUT, DELETE) to follow REST conventions."
      ],
      "metadata": {
        "id": "8pnCoXLXx2Sr"
      }
    },
    {
      "cell_type": "markdown",
      "source": [
        "15. What is the purpose of Flask's jsonify() function ?\n",
        "\n",
        "      In Flask, the jsonify() function is used to convert Python data structures (like dicts, lists, etc.) into JSON format and return them as a proper HTTP response.\n",
        "\n",
        "      The purpose of Flask’s jsonify() function is to:\n",
        "\n",
        "      Convert Python data (dicts, lists, etc.) into valid JSON responses\n",
        "\n",
        "      Automatically set the correct Content-Type (application/json)\n",
        "\n",
        "      Make API responses consistent, safe, and standard"
      ],
      "metadata": {
        "id": "FH887QVJyR7Q"
      }
    },
    {
      "cell_type": "markdown",
      "source": [
        "16.  Explain Flask’s url_for() function .\n",
        "\n",
        "        In Flask, the url_for() function is used to build URLs dynamically for your routes (endpoints), instead of hardcoding them.\n",
        "\n",
        "        You pass the function name of a route, and Flask generates the correct URL for it.\n",
        "\n",
        "        This way, if you later change the route’s URL, you don’t have to update it everywhere in your code/templates."
      ],
      "metadata": {
        "id": "ZDQWcwH-yyj-"
      }
    },
    {
      "cell_type": "markdown",
      "source": [
        "17. How does Flask handle static files (CSS, JavaScript, etc.) ?\n",
        "\n",
        "     1. Default “static” folder\n",
        "\n",
        "        By default, Flask looks for static files in a folder named static/ inside your project directory\n",
        "\n",
        "    2. Accessing static files in the browser\n",
        "\n",
        "       Flask automatically serves files from /static/\n",
        "\n",
        "       Example:\n",
        "\n",
        "       http://localhost:5000/static/style.css"
      ],
      "metadata": {
        "id": "8IjX9cMky_MZ"
      }
    },
    {
      "cell_type": "markdown",
      "source": [
        "18.  What is an API specification, and how does it help in building a Flask API ?\n",
        "\n",
        "      An API specification is a detailed blueprint that describes how an API works.\n",
        "\n",
        "        How Does an API Specification Help in Building a Flask API?\n",
        "\n",
        "     1. Clear Design Before Coding : Developers know exactly what routes, methods, and data formats to implement.Prevents confusion and inconsistency.\n",
        "\n",
        "     2. Documentation for Users : Clients (other developers, mobile teams, or third-party integrators) understand how to interact with your API."
      ],
      "metadata": {
        "id": "ahpVc1MBzgzr"
      }
    },
    {
      "cell_type": "markdown",
      "source": [
        "19.  What are HTTP status codes, and why are they important in a Flask API ?\n",
        "\n",
        "        HTTP status codes are three-digit numbers returned by the server to indicate the outcome of a client’s request.\n",
        "\n",
        "        They help clients (browsers, apps, or other services) understand what happened.\n",
        "\n",
        "        Every response from a Flask API can include a status code along with the data."
      ],
      "metadata": {
        "id": "tIPVXItK0PQH"
      }
    },
    {
      "cell_type": "markdown",
      "source": [
        "20.  How do you handle POST requests in Flask ?\n",
        "\n",
        "        Handling POST requests in Flask involves:\n",
        "\n",
        "        Defining a route with methods=['POST']\n",
        "\n",
        "        Accessing incoming data through request.json, request.form, or request.files\n",
        "\n",
        "        Returning a proper JSON response using jsonify()"
      ],
      "metadata": {
        "id": "EAjVpahr0gBR"
      }
    },
    {
      "cell_type": "markdown",
      "source": [
        "21.  How would you secure a Flask API ?\n",
        "\n",
        "        To secure a Flask API:\n",
        "\n",
        "      1. Serve over HTTPS\n",
        "\n",
        "      2. Implement authentication (API keys or JWT)\n",
        "\n",
        "      3. Validate inputs to prevent attacks\n",
        "\n",
        "      4. Apply rate limiting\n",
        "\n",
        "      5. Handle errors without leaking information\n",
        "\n",
        "      6. Control CORS\n",
        "\n",
        "      7. Log and monitor requests\n",
        "\n",
        "      8. Keep secrets in environment variables\n",
        "\n",
        "  \n",
        "\n"
      ],
      "metadata": {
        "id": "VNz0IFpK05GY"
      }
    },
    {
      "cell_type": "markdown",
      "source": [
        "22. What is the significance of the Flask-RESTful extension ?\n",
        "\n",
        "      Flask-RESTful is an extension for Flask that helps you build REST APIs quickly and cleanly\n",
        "\n",
        "      The significance of Flask-RESTful is that it:\n",
        "\n",
        "       Makes API code more structured and maintainable.\n",
        "\n",
        "      Allows class-based resources for multiple HTTP methods.\n",
        "\n",
        "      Provides request parsing and validation tools"
      ],
      "metadata": {
        "id": "LuAJIWr51uUu"
      }
    },
    {
      "cell_type": "markdown",
      "source": [
        "23. What is the role of Flask’s session object ?\n",
        "\n",
        "      Session is a dictionary-like object provided by Flask.\n",
        "\n",
        "       It allows you to store information about a client that persists across multiple requests.\n",
        "\n",
        "      Stored data is signed using a secret key, so the client cannot tamper with it."
      ],
      "metadata": {
        "id": "W6qxTjm42Eto"
      }
    },
    {
      "cell_type": "markdown",
      "source": [
        " **Practical**"
      ],
      "metadata": {
        "id": "hgXOWi36bomW"
      }
    },
    {
      "cell_type": "markdown",
      "source": [
        "1.  How do you create a basic Flask application ?\n",
        "  "
      ],
      "metadata": {
        "id": "zJjIFsCObs5O"
      }
    },
    {
      "cell_type": "code",
      "source": [
        "from flask import Flask\n",
        "\n",
        "# Create the Flask app instance\n",
        "app = Flask(__name__)\n",
        "\n",
        "# Define a route\n",
        "@app.route(\"/\")\n",
        "def home():\n",
        "    return \"Hello, Flask!\"\n",
        "\n",
        "# Run the app\n",
        "if __name__ == \"__main__\":\n",
        "    app.run(debug=True)\n"
      ],
      "metadata": {
        "id": "iM9uipF5bxr8"
      },
      "execution_count": null,
      "outputs": []
    },
    {
      "cell_type": "markdown",
      "source": [
        "2. How do you serve static files like images or CSS in Flask ?"
      ],
      "metadata": {
        "id": "iLIf2skHcF-z"
      }
    },
    {
      "cell_type": "code",
      "source": [
        "from flask import Flask, render_template\n",
        "\n",
        "app = Flask(__name__)\n",
        "\n",
        "@app.route(\"/\")\n",
        "def home():\n",
        "    return render_template(\"index.html\")\n",
        "\n",
        "if __name__ == \"__main__\":\n",
        "    app.run(debug=True)\n",
        "\n"
      ],
      "metadata": {
        "id": "2cNPaLZ9cKk_"
      },
      "execution_count": null,
      "outputs": []
    },
    {
      "cell_type": "markdown",
      "source": [
        "3.  How do you define different routes with different HTTP methods in Flask ?"
      ],
      "metadata": {
        "id": "v6b0Ek0mcxTO"
      }
    },
    {
      "cell_type": "code",
      "source": [
        "from flask import Flask, request\n",
        "\n",
        "app = Flask(__name__)\n",
        "\n",
        "@app.route(\"/submit\", methods=[\"GET\", \"POST\"])\n",
        "def submit():\n",
        "    if request.method == \"GET\":\n",
        "        return \"Send data using POST.\"\n",
        "    elif request.method == \"POST\":\n",
        "        data = request.form.get(\"name\")  # fetch form data\n",
        "        return f\"Hello, {data}!\"\n",
        "\n",
        "if __name__ == \"__main__\":\n",
        "    app.run(debug=True)\n",
        "\n",
        "@app.get(\"/hello\")\n",
        "def hello_get():\n",
        "    return \"Hello via GET!\"\n",
        "\n",
        "@app.post(\"/hello\")\n",
        "def hello_post():\n",
        "    return \"Hello via POST!\"\n",
        "\n",
        "@app.route(\"/item\", methods=[\"GET\", \"POST\", \"PUT\", \"DELETE\"])\n",
        "def item():\n",
        "    if request.method == \"GET\":\n",
        "        return \"Fetching item...\"\n",
        "    elif request.method == \"POST\":\n",
        "        return \"Creating item...\"\n",
        "    elif request.method == \"PUT\":\n",
        "        return \"Updating item...\"\n",
        "    elif request.method == \"DELETE\":\n",
        "        return \"Deleting item...\"\n",
        "\n"
      ],
      "metadata": {
        "id": "ys3q5Px0c25V"
      },
      "execution_count": null,
      "outputs": []
    },
    {
      "cell_type": "markdown",
      "source": [
        "4.  How do you render HTML templates in Flask ?\n"
      ],
      "metadata": {
        "id": "H-v5j6ezdJch"
      }
    },
    {
      "cell_type": "code",
      "source": [
        "from flask import Flask, render_template\n",
        "\n",
        "app = Flask(__name__)\n",
        "\n",
        "@app.route(\"/\")\n",
        "def home():\n",
        "    return render_template(\"index.html\", title=\"Home Page\", message=\"Welcome to Flask 🚀\")\n",
        "\n",
        "@app.route(\"/about\")\n",
        "def about():\n",
        "    return render_template(\"about.html\", title=\"About Page\")\n",
        "\n",
        "if __name__ == \"__main__\":\n",
        "    app.run(debug=True)\n"
      ],
      "metadata": {
        "id": "N1uFmEV-dPPb"
      },
      "execution_count": null,
      "outputs": []
    },
    {
      "cell_type": "markdown",
      "source": [
        "5.  How can you generate URLs for routes in Flask using url_for ?"
      ],
      "metadata": {
        "id": "61dFOmnsdS-4"
      }
    },
    {
      "cell_type": "code",
      "source": [
        "from flask import Flask, url_for, render_template\n",
        "\n",
        "app = Flask(__name__)\n",
        "\n",
        "@app.route(\"/\")\n",
        "def home():\n",
        "    return \"This is the Home Page.\"\n",
        "\n",
        "@app.route(\"/about\")\n",
        "def about():\n",
        "    return \"This is the About Page.\"\n",
        "\n",
        "@app.route(\"/user/<username>\")\n",
        "def profile(username):\n",
        "    return f\"Hello, {username}!\"\n",
        "\n",
        "\n",
        "with app.test_request_context():\n",
        "    print(url_for(\"home\"))            # ➝ \"/\"\n",
        "    print(url_for(\"about\"))           # ➝ \"/about\"\n",
        "    print(url_for(\"profile\", username=\"Alice\"))  # ➝ \"/user/Alice\"\n"
      ],
      "metadata": {
        "id": "GUJs66k_gXn4"
      },
      "execution_count": null,
      "outputs": []
    },
    {
      "cell_type": "markdown",
      "source": [
        "6. How do you handle forms in Flask ?"
      ],
      "metadata": {
        "id": "A22enwUOgmKm"
      }
    },
    {
      "cell_type": "code",
      "source": [
        "from flask import Flask, render_template, request\n",
        "\n",
        "app = Flask(__name__)\n",
        "\n",
        "@app.route(\"/\")\n",
        "def index():\n",
        "    return render_template(\"form.html\")\n",
        "\n",
        "@app.route(\"/submit\", methods=[\"POST\"])\n",
        "def submit():\n",
        "    name = request.form.get(\"name\")   # fetch form field\n",
        "    email = request.form.get(\"email\")\n",
        "    return f\"Received: {name} ({email})\"\n",
        "\n",
        "if __name__ == \"__main__\":\n",
        "    app.run(debug=True)\n"
      ],
      "metadata": {
        "id": "ITnb7vXDgrjM"
      },
      "execution_count": null,
      "outputs": []
    },
    {
      "cell_type": "markdown",
      "source": [
        "7.  How can you validate form data in Flask ?"
      ],
      "metadata": {
        "id": "uDY8OiTQg2rR"
      }
    },
    {
      "cell_type": "code",
      "source": [
        "from flask import Flask, render_template, redirect, url_for\n",
        "from flask_wtf import FlaskForm\n",
        "from wtforms import StringField, SubmitField\n",
        "from wtforms.validators import DataRequired, Email\n",
        "\n",
        "app = Flask(__name__)\n",
        "app.secret_key = \"secret123\"  # Required for CSRF protection\n",
        "\n",
        "# Define a form class\n",
        "class RegistrationForm(FlaskForm):\n",
        "    username = StringField(\"Username\", validators=[DataRequired()])\n",
        "    email = StringField(\"Email\", validators=[DataRequired(), Email()])\n",
        "    submit = SubmitField(\"Register\")\n",
        "\n",
        "@app.route(\"/\", methods=[\"GET\", \"POST\"])\n",
        "def register():\n",
        "    form = RegistrationForm()\n",
        "    if form.validate_on_submit():\n",
        "        return f\"Welcome, {form.username.data}!\"\n",
        "    return render_template(\"register.html\", form=form)\n",
        "\n",
        "if __name__ == \"__main__\":\n",
        "    app.run(debug=True)\n"
      ],
      "metadata": {
        "id": "NS-0X-5Sg6we"
      },
      "execution_count": null,
      "outputs": []
    },
    {
      "cell_type": "markdown",
      "source": [
        "8.  How do you manage sessions in Flask ?"
      ],
      "metadata": {
        "id": "G5KuyAZjhGrE"
      }
    },
    {
      "cell_type": "code",
      "source": [
        "from flask import Flask, session, redirect, url_for, request\n",
        "\n",
        "app = Flask(__name__)\n",
        "app.secret_key = \"supersecretkey\"  # Required for signing session cookies\n",
        "\n",
        "@app.route(\"/\")\n",
        "def home():\n",
        "    user = session.get(\"user\")\n",
        "    if user:\n",
        "        return f\"Hello, {user}! <a href='/logout'>Logout</a>\"\n",
        "    return \"You are not logged in. <a href='/login'>Login</a>\"\n",
        "\n",
        "@app.route(\"/login\", methods=[\"GET\", \"POST\"])\n",
        "def login():\n",
        "    if request.method == \"POST\":\n",
        "        username = request.form.get(\"username\")\n",
        "        session[\"user\"] = username  # store in session\n",
        "        return redirect(url_for(\"home\"))\n",
        "    return \"\"\"\n",
        "        <form method=\"POST\">\n",
        "            <input type=\"text\" name=\"username\" placeholder=\"Enter name\">\n",
        "            <button type=\"submit\">Login</button>\n",
        "        </form>\n",
        "    \"\"\"\n",
        "\n",
        "@app.route(\"/logout\")\n",
        "def logout():\n",
        "    session.pop(\"user\", None)  # remove from session\n",
        "    return redirect(url_for(\"home\"))\n",
        "\n",
        "if __name__ == \"__main__\":\n",
        "    app.run(debug=True)\n"
      ],
      "metadata": {
        "id": "6302AyQqhLX5"
      },
      "execution_count": null,
      "outputs": []
    },
    {
      "cell_type": "markdown",
      "source": [
        "9.  How do you redirect to a different route in Flask ?"
      ],
      "metadata": {
        "id": "47yDGwGehQtf"
      }
    },
    {
      "cell_type": "code",
      "source": [
        "from flask import Flask, redirect, url_for\n",
        "\n",
        "app = Flask(__name__)\n",
        "\n",
        "@app.route(\"/\")\n",
        "def home():\n",
        "    return \"Welcome to the Home Page!\"\n",
        "\n",
        "@app.route(\"/login\")\n",
        "def login():\n",
        "    return \"Please log in.\"\n",
        "\n",
        "@app.route(\"/go-to-login\")\n",
        "def go_to_login():\n",
        "    # Redirects user to the login route\n",
        "    return redirect(url_for(\"login\"))\n",
        "\n",
        "if __name__ == \"__main__\":\n",
        "    app.run(debug=True)\n"
      ],
      "metadata": {
        "id": "tZ_bLt0ChWfI"
      },
      "execution_count": null,
      "outputs": []
    },
    {
      "cell_type": "markdown",
      "source": [
        "10.  How do you handle errors in Flask (e.g., 404) ?"
      ],
      "metadata": {
        "id": "gSAqjkTZhej4"
      }
    },
    {
      "cell_type": "code",
      "source": [
        "from flask import Flask, render_template\n",
        "\n",
        "app = Flask(__name__)\n",
        "\n",
        "@app.route(\"/\")\n",
        "def home():\n",
        "    return \"Welcome Home!\"\n",
        "\n",
        "# Handle 404 error\n",
        "@app.errorhandler(404)\n",
        "def page_not_found(error):\n",
        "    return render_template(\"404.html\"), 404\n",
        "\n",
        "# Handle 500 error\n",
        "@app.errorhandler(500)\n",
        "def internal_error(error):\n",
        "    return render_template(\"500.html\"), 500\n",
        "\n",
        "if __name__ == \"__main__\":\n",
        "    app.run(debug=True)\n"
      ],
      "metadata": {
        "id": "taOeZVd4hdsi"
      },
      "execution_count": null,
      "outputs": []
    },
    {
      "cell_type": "markdown",
      "source": [
        "11.  How do you structure a Flask app using Blueprints ?"
      ],
      "metadata": {
        "id": "5n4wAYKhh2oM"
      }
    },
    {
      "cell_type": "code",
      "source": [
        "from flask import Flask\n",
        "from blueprints.auth import auth_bp\n",
        "from blueprints.blog import blog_bp\n",
        "\n",
        "def create_app():\n",
        "    app = Flask(__name__)\n",
        "\n",
        "    # Register blueprints\n",
        "    app.register_blueprint(auth_bp, url_prefix=\"/auth\")\n",
        "    app.register_blueprint(blog_bp, url_prefix=\"/blog\")\n",
        "\n",
        "    @app.route(\"/\")\n",
        "    def home():\n",
        "        return \"Welcome to the Home Page!\"\n",
        "\n",
        "    return app\n",
        "\n",
        "if __name__ == \"__main__\":\n",
        "    app = create_app()\n",
        "    app.run(debug=True)\n",
        "\n",
        "\n",
        "from flask import Blueprint, render_template\n",
        "\n",
        "# Create a blueprint instance\n",
        "auth_bp = Blueprint(\"auth\", __name__, template_folder=\"../templates\")\n",
        "\n",
        "@auth_bp.route(\"/login\")\n",
        "def login():\n",
        "    return render_template(\"home.html\", message=\"Login Page\")\n",
        "\n",
        "@auth_bp.route(\"/logout\")\n",
        "def logout():\n",
        "    return \"You’ve been logged out.\"\n"
      ],
      "metadata": {
        "id": "FtS-8Xoph6pY"
      },
      "execution_count": null,
      "outputs": []
    },
    {
      "cell_type": "markdown",
      "source": [
        "12.  How do you define a custom Jinja filter in Flask ?"
      ],
      "metadata": {
        "id": "gRyq2tkniXZU"
      }
    },
    {
      "cell_type": "code",
      "source": [
        "def reverse_string(s):\n",
        "    return s[::-1]\n"
      ],
      "metadata": {
        "id": "YnXNM6hwicET"
      },
      "execution_count": null,
      "outputs": []
    },
    {
      "cell_type": "markdown",
      "source": [
        "13.  How can you redirect with query parameters in Flask ?"
      ],
      "metadata": {
        "id": "pAMOdgSqiovL"
      }
    },
    {
      "cell_type": "code",
      "source": [
        "from flask import Flask, redirect, url_for, request\n",
        "\n",
        "app = Flask(__name__)\n",
        "\n",
        "@app.route(\"/\")\n",
        "def home():\n",
        "    return \"Welcome to the Home Page!\"\n",
        "\n",
        "@app.route(\"/search\")\n",
        "def search():\n",
        "    query = request.args.get(\"q\", \"No query\")\n",
        "    return f\"You searched for: {query}\"\n",
        "\n",
        "@app.route(\"/go-to-search\")\n",
        "def go_to_search():\n",
        "    # Redirect with query parameters\n",
        "    return redirect(url_for(\"search\", q=\"flask tutorial\", page=2))\n",
        "\n",
        "if __name__ == \"__main__\":\n",
        "    app.run(debug=True)\n"
      ],
      "metadata": {
        "id": "An9o3bREisGp"
      },
      "execution_count": null,
      "outputs": []
    },
    {
      "cell_type": "markdown",
      "source": [
        "14.  How do you return JSON responses in Flask ?"
      ],
      "metadata": {
        "id": "CQDwjcSPixkM"
      }
    },
    {
      "cell_type": "code",
      "source": [
        "from flask import Flask, jsonify\n",
        "\n",
        "app = Flask(__name__)\n",
        "\n",
        "@app.route(\"/api/user\")\n",
        "def get_user():\n",
        "    user = {\"name\": \"Alice\", \"age\": 25, \"city\": \"New York\"}\n",
        "    return jsonify(user)\n",
        "\n",
        "if __name__ == \"__main__\":\n",
        "    app.run(debug=True)\n",
        "\n",
        "\n",
        "{\n",
        "  \"name\": \"Alice\",\n",
        "  \"age\": 25,\n",
        "  \"city\": \"New York\"\n",
        "}\n"
      ],
      "metadata": {
        "id": "WxxfKdwdi05F"
      },
      "execution_count": null,
      "outputs": []
    },
    {
      "cell_type": "markdown",
      "source": [
        "15.  How do you capture URL parameters in Flask ?"
      ],
      "metadata": {
        "id": "pRTvRRLli73D"
      }
    },
    {
      "cell_type": "code",
      "source": [
        "from flask import Flask\n",
        "\n",
        "app = Flask(__name__)\n",
        "\n",
        "@app.route(\"/user/<username>\")\n",
        "def profile(username):\n",
        "    return f\"Hello, {username}!\"\n"
      ],
      "metadata": {
        "id": "JE87KEeSi_5l"
      },
      "execution_count": null,
      "outputs": []
    }
  ]
}