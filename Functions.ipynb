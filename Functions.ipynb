{
  "nbformat": 4,
  "nbformat_minor": 0,
  "metadata": {
    "colab": {
      "provenance": []
    },
    "kernelspec": {
      "name": "python3",
      "display_name": "Python 3"
    },
    "language_info": {
      "name": "python"
    }
  },
  "cells": [
    {
      "cell_type": "markdown",
      "source": [
        "  1. What is the difference between a function and a method in Python?\n",
        "\n",
        "\n",
        "          A function is an independent block of code that can be called anywhere in your program whereas a method is a function that is associated with an object.\n",
        "          example of function:-def greet(a,b):\n",
        "                                  return a+b\n",
        "                               greet(5,6)\n",
        "          example of method:-class Calculator:\n",
        "                                 def add(self, a, b):\n",
        "                                     return a + b\n",
        "                            calc = Calculator()\n",
        "                            print(calc.add(5, 3))\n",
        "      \n",
        "        "
      ],
      "metadata": {
        "id": "saoD_Wlr1J9W"
      }
    },
    {
      "cell_type": "markdown",
      "source": [
        "2.  Explain the concept of function arguments and parameters in Python.\n",
        "\n",
        "        Parameters:-Variables listed inside the parentheses in a function definition.EG:-def greet(a,b)\n",
        "\n",
        "        Functions:-The actual values you pass when calling the function.\n",
        "        Eg:-greet(5,6)\n",
        "\n",
        "\n",
        "\n"
      ],
      "metadata": {
        "id": "JfcdljXI4Tr3"
      }
    },
    {
      "cell_type": "markdown",
      "source": [
        "3.  What are the different ways to define and call a function in Python?\n",
        "\n",
        "        There are many different ways to define and call a functions:-\n",
        "         1. Standard function\n",
        "          definition:-def greet(name):\n",
        "                          print(f\"Hello, {name}!\")\n",
        "          call:-greet(\"Harnakshi\")\n",
        "\n",
        "        2. Function with Default Parameters\n",
        "\n",
        "          definition:-def greet(a,b=7):\n",
        "                          print(f\"two numbers are {a,b}\")\n",
        "          call:-greet(8)\n",
        "        "
      ],
      "metadata": {
        "id": "cq6VmaMy5QJI"
      }
    },
    {
      "cell_type": "markdown",
      "source": [
        "4. What is the purpose of the `return` statement in a Python function?\n",
        "\n",
        "        The return statement in Python is used to send a result from a function back to the place where the function was called.Without return, a function still runs, but it won’t give anything back — it will return None by default.\n",
        "\n",
        "        eg:-\n",
        "        def greet(a,b):\n",
        "               return a+b\n",
        "        greet(5,6)\n",
        "    "
      ],
      "metadata": {
        "id": "DKVyORyF7RO9"
      }
    },
    {
      "cell_type": "markdown",
      "source": [
        "5.  What are iterators in Python and how do they differ from iterables?\n",
        "\n",
        "        Iterable Definition: Any Python object capable of returning its elements one at a time.\n",
        "\n",
        "        Examples: list, tuple, str, dict, set\n",
        "\n",
        "        Iterator Definition: An object that remembers its position and returns elements one at a time when you call next().\n",
        "\n",
        "        Example:\n",
        "         \n",
        "         my_list = [1, 2, 3]          # iterable\n",
        "         my_iter = iter(my_list)      # iterator created from iterable\n",
        "         print(next(my_iter))  \n",
        "         print(next(my_iter))  \n",
        "         print(next(my_iter))  "
      ],
      "metadata": {
        "id": "OyHmCc6c8M9z"
      }
    },
    {
      "cell_type": "markdown",
      "source": [
        "6.  Explain the concept of generators in Python and how they are defined.\n",
        "\n",
        "        Generators are defined like a normal function, but use yield instead of   return.yield pauses the function, saving its state, and resumes from that point when called again\n",
        "\n",
        "        example:-\n",
        "      \n",
        "         def count_up_to(n):\n",
        "         count = 1\n",
        "         while count <= n:\n",
        "         yield count  # produce the next value\n",
        "         count += 1\n",
        "         counter = count_up_to(3)\n",
        "         print(next(counter))  \n",
        "         print(next(counter))  \n",
        "         print(next(counter))"
      ],
      "metadata": {
        "id": "5qsBrrKr9G-9"
      }
    },
    {
      "cell_type": "markdown",
      "source": [
        "7. What are the advantages of using generators over regular functions?\n",
        "\n",
        "       1. Generators don’t store all values in memory — they produce items one at a time.\n",
        "\n",
        "       2. Values are generated only when needed, which can save time if you don’t use them all.\n",
        "\n",
        "       3. Generators can produce infinite values without crashing your system.\n",
        "\n",
        "       example:-\n",
        "\n",
        "       def squares_gen(n):\n",
        "       for i in range(n):\n",
        "         yield i**2\n",
        "       print(sum(squares_gen(1_000_000)))"
      ],
      "metadata": {
        "id": "N3JSXPmf--vI"
      }
    },
    {
      "cell_type": "markdown",
      "source": [
        "8. What is a lambda function in Python and when is it typically used?\n",
        "        A lambda function in Python is a small, anonymous function defined using the keyword lambda instead of def.\n",
        "        It’s typically used for short, simple operations where defining a full function with def would be overkill.\n",
        "\n",
        "        example:-add_lambda = lambda a, b: a + b\n",
        "                 print(add_lambda(5, 3))"
      ],
      "metadata": {
        "id": "blKuLBCyBN75"
      }
    },
    {
      "cell_type": "markdown",
      "source": [
        "9.  Explain the purpose and usage of the `map()` function in Python.\n",
        "\n",
        "        The map() function in Python is used to apply a function to every item in an iterable (like a list, tuple, or string) and return an iterator with the results\n",
        "\n",
        "        purposes:-\n",
        "         To avoid writing explicit loops for transforming data.\n",
        "         Makes code more concise and functional in style.\n",
        "\n",
        "        example:-nums = [1, 2, 3, 4]\n",
        "                 def square(x):\n",
        "                    return x ** 2\n",
        "\n",
        "                result = map(square, nums)\n",
        "                print(list(result))\n",
        "\n"
      ],
      "metadata": {
        "id": "3VZLhDK3Buuq"
      }
    },
    {
      "cell_type": "markdown",
      "source": [
        "10.  What is the difference between `map()`, `reduce()`, and `filter()` functions in Python?\n",
        "\n",
        "          map():\n",
        "          Purpose:-Apply a function to each element of an iterable and return the transformed results\n",
        "          example:-nums = [1, 2, 3, 4]\n",
        "                    squares = list(map(lambda x: x**2, nums))\n",
        "                    print(squares)\n",
        "        \n",
        "          reduce():\n",
        "          Purpose:-Repeatedly apply a function to the iterable, reducing it to a single cumulative value.\n",
        "          example:from functools import reduce\n",
        "                  nums = [1, 2, 3, 4]\n",
        "                 product = reduce(lambda x, y: x * y, nums)\n",
        "                  print(product)\n",
        "\n",
        "         filter:\n",
        "         Purpose:-Apply a function to each element and keep only those where the function returns True.\n",
        "         example:-nums = [1, 2, 3, 4]\n",
        "                  evens = list(filter(lambda x: x % 2 == 0, nums))\n",
        "                  print(evens)\n",
        "      "
      ],
      "metadata": {
        "id": "kK734MMBCnub"
      }
    },
    {
      "cell_type": "markdown",
      "source": [
        "11. Using pen & Paper write the internal mechanism for sum operation using  reduce function on this given\n",
        " list:[47,11,42,13];  \n",
        "(Attach paper image for this answer) in doc or colab notebook."
      ],
      "metadata": {
        "id": "98bwAv_GIyeG"
      }
    },
    {
      "cell_type": "code",
      "source": [
        "from google.colab import files\n",
        "from IPython.display import Image"
      ],
      "metadata": {
        "id": "dMDi5umeMEcg"
      },
      "execution_count": null,
      "outputs": []
    },
    {
      "cell_type": "code",
      "source": [
        "uploaded=files.upload()"
      ],
      "metadata": {
        "colab": {
          "base_uri": "https://localhost:8080/",
          "height": 74
        },
        "id": "iNa8KS5yNjcA",
        "outputId": "53766eba-05ef-4602-bd9f-7540db6d0d7c"
      },
      "execution_count": null,
      "outputs": [
        {
          "output_type": "display_data",
          "data": {
            "text/plain": [
              "<IPython.core.display.HTML object>"
            ],
            "text/html": [
              "\n",
              "     <input type=\"file\" id=\"files-17b84475-927a-43b7-b022-d904b6e0290a\" name=\"files[]\" multiple disabled\n",
              "        style=\"border:none\" />\n",
              "     <output id=\"result-17b84475-927a-43b7-b022-d904b6e0290a\">\n",
              "      Upload widget is only available when the cell has been executed in the\n",
              "      current browser session. Please rerun this cell to enable.\n",
              "      </output>\n",
              "      <script>// Copyright 2017 Google LLC\n",
              "//\n",
              "// Licensed under the Apache License, Version 2.0 (the \"License\");\n",
              "// you may not use this file except in compliance with the License.\n",
              "// You may obtain a copy of the License at\n",
              "//\n",
              "//      http://www.apache.org/licenses/LICENSE-2.0\n",
              "//\n",
              "// Unless required by applicable law or agreed to in writing, software\n",
              "// distributed under the License is distributed on an \"AS IS\" BASIS,\n",
              "// WITHOUT WARRANTIES OR CONDITIONS OF ANY KIND, either express or implied.\n",
              "// See the License for the specific language governing permissions and\n",
              "// limitations under the License.\n",
              "\n",
              "/**\n",
              " * @fileoverview Helpers for google.colab Python module.\n",
              " */\n",
              "(function(scope) {\n",
              "function span(text, styleAttributes = {}) {\n",
              "  const element = document.createElement('span');\n",
              "  element.textContent = text;\n",
              "  for (const key of Object.keys(styleAttributes)) {\n",
              "    element.style[key] = styleAttributes[key];\n",
              "  }\n",
              "  return element;\n",
              "}\n",
              "\n",
              "// Max number of bytes which will be uploaded at a time.\n",
              "const MAX_PAYLOAD_SIZE = 100 * 1024;\n",
              "\n",
              "function _uploadFiles(inputId, outputId) {\n",
              "  const steps = uploadFilesStep(inputId, outputId);\n",
              "  const outputElement = document.getElementById(outputId);\n",
              "  // Cache steps on the outputElement to make it available for the next call\n",
              "  // to uploadFilesContinue from Python.\n",
              "  outputElement.steps = steps;\n",
              "\n",
              "  return _uploadFilesContinue(outputId);\n",
              "}\n",
              "\n",
              "// This is roughly an async generator (not supported in the browser yet),\n",
              "// where there are multiple asynchronous steps and the Python side is going\n",
              "// to poll for completion of each step.\n",
              "// This uses a Promise to block the python side on completion of each step,\n",
              "// then passes the result of the previous step as the input to the next step.\n",
              "function _uploadFilesContinue(outputId) {\n",
              "  const outputElement = document.getElementById(outputId);\n",
              "  const steps = outputElement.steps;\n",
              "\n",
              "  const next = steps.next(outputElement.lastPromiseValue);\n",
              "  return Promise.resolve(next.value.promise).then((value) => {\n",
              "    // Cache the last promise value to make it available to the next\n",
              "    // step of the generator.\n",
              "    outputElement.lastPromiseValue = value;\n",
              "    return next.value.response;\n",
              "  });\n",
              "}\n",
              "\n",
              "/**\n",
              " * Generator function which is called between each async step of the upload\n",
              " * process.\n",
              " * @param {string} inputId Element ID of the input file picker element.\n",
              " * @param {string} outputId Element ID of the output display.\n",
              " * @return {!Iterable<!Object>} Iterable of next steps.\n",
              " */\n",
              "function* uploadFilesStep(inputId, outputId) {\n",
              "  const inputElement = document.getElementById(inputId);\n",
              "  inputElement.disabled = false;\n",
              "\n",
              "  const outputElement = document.getElementById(outputId);\n",
              "  outputElement.innerHTML = '';\n",
              "\n",
              "  const pickedPromise = new Promise((resolve) => {\n",
              "    inputElement.addEventListener('change', (e) => {\n",
              "      resolve(e.target.files);\n",
              "    });\n",
              "  });\n",
              "\n",
              "  const cancel = document.createElement('button');\n",
              "  inputElement.parentElement.appendChild(cancel);\n",
              "  cancel.textContent = 'Cancel upload';\n",
              "  const cancelPromise = new Promise((resolve) => {\n",
              "    cancel.onclick = () => {\n",
              "      resolve(null);\n",
              "    };\n",
              "  });\n",
              "\n",
              "  // Wait for the user to pick the files.\n",
              "  const files = yield {\n",
              "    promise: Promise.race([pickedPromise, cancelPromise]),\n",
              "    response: {\n",
              "      action: 'starting',\n",
              "    }\n",
              "  };\n",
              "\n",
              "  cancel.remove();\n",
              "\n",
              "  // Disable the input element since further picks are not allowed.\n",
              "  inputElement.disabled = true;\n",
              "\n",
              "  if (!files) {\n",
              "    return {\n",
              "      response: {\n",
              "        action: 'complete',\n",
              "      }\n",
              "    };\n",
              "  }\n",
              "\n",
              "  for (const file of files) {\n",
              "    const li = document.createElement('li');\n",
              "    li.append(span(file.name, {fontWeight: 'bold'}));\n",
              "    li.append(span(\n",
              "        `(${file.type || 'n/a'}) - ${file.size} bytes, ` +\n",
              "        `last modified: ${\n",
              "            file.lastModifiedDate ? file.lastModifiedDate.toLocaleDateString() :\n",
              "                                    'n/a'} - `));\n",
              "    const percent = span('0% done');\n",
              "    li.appendChild(percent);\n",
              "\n",
              "    outputElement.appendChild(li);\n",
              "\n",
              "    const fileDataPromise = new Promise((resolve) => {\n",
              "      const reader = new FileReader();\n",
              "      reader.onload = (e) => {\n",
              "        resolve(e.target.result);\n",
              "      };\n",
              "      reader.readAsArrayBuffer(file);\n",
              "    });\n",
              "    // Wait for the data to be ready.\n",
              "    let fileData = yield {\n",
              "      promise: fileDataPromise,\n",
              "      response: {\n",
              "        action: 'continue',\n",
              "      }\n",
              "    };\n",
              "\n",
              "    // Use a chunked sending to avoid message size limits. See b/62115660.\n",
              "    let position = 0;\n",
              "    do {\n",
              "      const length = Math.min(fileData.byteLength - position, MAX_PAYLOAD_SIZE);\n",
              "      const chunk = new Uint8Array(fileData, position, length);\n",
              "      position += length;\n",
              "\n",
              "      const base64 = btoa(String.fromCharCode.apply(null, chunk));\n",
              "      yield {\n",
              "        response: {\n",
              "          action: 'append',\n",
              "          file: file.name,\n",
              "          data: base64,\n",
              "        },\n",
              "      };\n",
              "\n",
              "      let percentDone = fileData.byteLength === 0 ?\n",
              "          100 :\n",
              "          Math.round((position / fileData.byteLength) * 100);\n",
              "      percent.textContent = `${percentDone}% done`;\n",
              "\n",
              "    } while (position < fileData.byteLength);\n",
              "  }\n",
              "\n",
              "  // All done.\n",
              "  yield {\n",
              "    response: {\n",
              "      action: 'complete',\n",
              "    }\n",
              "  };\n",
              "}\n",
              "\n",
              "scope.google = scope.google || {};\n",
              "scope.google.colab = scope.google.colab || {};\n",
              "scope.google.colab._files = {\n",
              "  _uploadFiles,\n",
              "  _uploadFilesContinue,\n",
              "};\n",
              "})(self);\n",
              "</script> "
            ]
          },
          "metadata": {}
        },
        {
          "output_type": "stream",
          "name": "stdout",
          "text": [
            "Saving functions.jpg to functions.jpg\n"
          ]
        }
      ]
    },
    {
      "cell_type": "code",
      "source": [
        "Image('functions.jpg',\n",
        "width=525)"
      ],
      "metadata": {
        "colab": {
          "base_uri": "https://localhost:8080/",
          "height": 424
        },
        "id": "FnCkna-VNwTp",
        "outputId": "b843bdec-89a5-4bd2-a883-c00ce5dc7c5e"
      },
      "execution_count": null,
      "outputs": [
        {
          "output_type": "execute_result",
          "data": {
            "image/jpeg": "[encoded data removed]",
            "text/plain": [
              "<IPython.core.display.Image object>"
            ]
          },
          "metadata": {
            "image/jpeg": {
              "width": 525
            }
          },
          "execution_count": 21
        }
      ]
    },
    {
      "cell_type": "markdown",
      "source": [
        "# PRACTICAL QUESTIONS"
      ],
      "metadata": {
        "id": "OHEoNvbIOpm0"
      }
    },
    {
      "cell_type": "markdown",
      "source": [
        "1. Write a Python function that takes a list of numbers as input and returns the sum of all even numbers in\n",
        "the list."
      ],
      "metadata": {
        "id": "MLDiT7BjO0_2"
      }
    },
    {
      "cell_type": "code",
      "source": [
        "def sum_of_even_numbers(numbers):\n",
        "   even_sum = 0\n",
        "   for number in numbers:\n",
        "    if number % 2 == 0:\n",
        "      even_sum += number\n",
        "   return even_sum\n",
        "my_list = [1, 2, 3, 4, 5, 6, 7, 8, 9, 10]\n",
        "result = sum_of_even_numbers(my_list)\n",
        "print(f\"The sum of even numbers in the list is: {result}\")"
      ],
      "metadata": {
        "id": "UPma0U6PPAS7",
        "colab": {
          "base_uri": "https://localhost:8080/"
        },
        "outputId": "24a37362-1add-4cb2-94db-83b8672af583"
      },
      "execution_count": 5,
      "outputs": [
        {
          "output_type": "stream",
          "name": "stdout",
          "text": [
            "The sum of even numbers in the list is: 30\n"
          ]
        }
      ]
    },
    {
      "cell_type": "markdown",
      "source": [
        "2. Create a Python function that accepts a string and returns the reverse of that string."
      ],
      "metadata": {
        "id": "0qOMIz-j93Cc"
      }
    },
    {
      "cell_type": "code",
      "source": [
        "def reverse_string(input_string):\n",
        "   return input_string[::-1]\n",
        "my_string = \"hello\"\n",
        "reversed_string = reverse_string(my_string)\n",
        "print(f\"The reversed string of '{my_string}' is: '{reversed_string}'\")"
      ],
      "metadata": {
        "colab": {
          "base_uri": "https://localhost:8080/"
        },
        "id": "XK5h1mv9-Gi7",
        "outputId": "205a35fd-9e0e-46f2-f31b-e757ad481c03"
      },
      "execution_count": 6,
      "outputs": [
        {
          "output_type": "stream",
          "name": "stdout",
          "text": [
            "The reversed string of 'hello' is: 'olleh'\n"
          ]
        }
      ]
    },
    {
      "cell_type": "markdown",
      "source": [
        "3. Implement a Python function that takes a list of integers and returns a new list containing the squares of\n",
        "each number."
      ],
      "metadata": {
        "id": "6AkfC-JS-Jtc"
      }
    },
    {
      "cell_type": "code",
      "source": [
        "def square_numbers_in_list(numbers):\n",
        "  squared_numbers = [number**2 for number in numbers]\n",
        "  return squared_numbers\n",
        "my_list = [1, 2, 3, 4, 5]\n",
        "squared_list = square_numbers_in_list(my_list)\n",
        "print(f\"The original list is: {my_list}\")\n",
        "print(f\"The list with squared numbers is: {squared_list}\")\n"
      ],
      "metadata": {
        "colab": {
          "base_uri": "https://localhost:8080/"
        },
        "id": "PlOAJumL-kr7",
        "outputId": "91fb3d4a-7160-4c0c-c9fc-1eaf942a4b69"
      },
      "execution_count": 7,
      "outputs": [
        {
          "output_type": "stream",
          "name": "stdout",
          "text": [
            "The original list is: [1, 2, 3, 4, 5]\n",
            "The list with squared numbers is: [1, 4, 9, 16, 25]\n"
          ]
        }
      ]
    },
    {
      "cell_type": "markdown",
      "source": [
        "4. Write a Python function that checks if a given number is prime or not from 1 to 200."
      ],
      "metadata": {
        "id": "WdZkoKPv-rox"
      }
    },
    {
      "cell_type": "code",
      "source": [
        "def is_prime(number):\n",
        "  if number <= 1:\n",
        "    return False  # Numbers less than or equal to 1 are not prime\n",
        "  for i in range(2, int(number**0.5) + 1):\n",
        "    if number % i == 0:\n",
        "      return False  # If the number is divisible by any number from 2 to its square root, it's not prime\n",
        "  return True  # Otherwise, the number is prime\n",
        "print(\"Checking prime numbers between 1 and 200:\")\n",
        "for num in range(1, 201):\n",
        "  if is_prime(num):\n",
        "    print(f\"{num} is a prime number\")"
      ],
      "metadata": {
        "colab": {
          "base_uri": "https://localhost:8080/"
        },
        "id": "mz-ayhV9-vUE",
        "outputId": "ec66f9db-86d0-4df6-fa87-442427b0e0d6"
      },
      "execution_count": 8,
      "outputs": [
        {
          "output_type": "stream",
          "name": "stdout",
          "text": [
            "Checking prime numbers between 1 and 200:\n",
            "2 is a prime number\n",
            "3 is a prime number\n",
            "5 is a prime number\n",
            "7 is a prime number\n",
            "11 is a prime number\n",
            "13 is a prime number\n",
            "17 is a prime number\n",
            "19 is a prime number\n",
            "23 is a prime number\n",
            "29 is a prime number\n",
            "31 is a prime number\n",
            "37 is a prime number\n",
            "41 is a prime number\n",
            "43 is a prime number\n",
            "47 is a prime number\n",
            "53 is a prime number\n",
            "59 is a prime number\n",
            "61 is a prime number\n",
            "67 is a prime number\n",
            "71 is a prime number\n",
            "73 is a prime number\n",
            "79 is a prime number\n",
            "83 is a prime number\n",
            "89 is a prime number\n",
            "97 is a prime number\n",
            "101 is a prime number\n",
            "103 is a prime number\n",
            "107 is a prime number\n",
            "109 is a prime number\n",
            "113 is a prime number\n",
            "127 is a prime number\n",
            "131 is a prime number\n",
            "137 is a prime number\n",
            "139 is a prime number\n",
            "149 is a prime number\n",
            "151 is a prime number\n",
            "157 is a prime number\n",
            "163 is a prime number\n",
            "167 is a prime number\n",
            "173 is a prime number\n",
            "179 is a prime number\n",
            "181 is a prime number\n",
            "191 is a prime number\n",
            "193 is a prime number\n",
            "197 is a prime number\n",
            "199 is a prime number\n"
          ]
        }
      ]
    },
    {
      "cell_type": "markdown",
      "source": [
        "5.  Create an iterator class in Python that generates the Fibonacci sequence up to a specified number of\n",
        "terms."
      ],
      "metadata": {
        "id": "eiNqaxTH-9Gb"
      }
    },
    {
      "cell_type": "code",
      "metadata": {
        "colab": {
          "base_uri": "https://localhost:8080/"
        },
        "id": "5860a0d6",
        "outputId": "4b600cbe-b476-4a30-8a34-6be2e1729e8a"
      },
      "source": [
        "class FibonacciIterator:\n",
        "  def __init__(self, num_terms):\n",
        "    self.num_terms = num_terms\n",
        "    self.count = 0\n",
        "    self.a = 0\n",
        "    self.b = 1\n",
        "\n",
        "  def __iter__(self):\n",
        "    return self\n",
        "\n",
        "  def __next__(self):\n",
        "    if self.count < self.num_terms:\n",
        "      if self.count == 0:\n",
        "        self.count += 1\n",
        "        return self.a\n",
        "      elif self.count == 1:\n",
        "        self.count += 1\n",
        "        return self.b\n",
        "      else:\n",
        "        next_fib = self.a + self.b\n",
        "        self.a = self.b\n",
        "        self.b = next_fib\n",
        "        self.count += 1\n",
        "        return next_fib\n",
        "    else:\n",
        "      raise StopIteration\n",
        "\n",
        "fib_iterator = FibonacciIterator(10)\n",
        "print(\"Fibonacci sequence up to 10 terms:\")\n",
        "for number in fib_iterator:\n",
        "  print(number)"
      ],
      "execution_count": 9,
      "outputs": [
        {
          "output_type": "stream",
          "name": "stdout",
          "text": [
            "Fibonacci sequence up to 10 terms:\n",
            "0\n",
            "1\n",
            "1\n",
            "2\n",
            "3\n",
            "5\n",
            "8\n",
            "13\n",
            "21\n",
            "34\n"
          ]
        }
      ]
    },
    {
      "cell_type": "markdown",
      "source": [
        "6. Write a generator function in Python that yields the powers of 2 up to a given exponent."
      ],
      "metadata": {
        "id": "HrvllWwDAdKb"
      }
    },
    {
      "cell_type": "code",
      "metadata": {
        "colab": {
          "base_uri": "https://localhost:8080/"
        },
        "id": "d82e4334",
        "outputId": "d0d76ed6-a7f1-46d9-bd1f-cf7466b43c9a"
      },
      "source": [
        "def powers_of_two(exponent):\n",
        "  for i in range(exponent + 1):\n",
        "    yield 2**i\n",
        "powers = powers_of_two(5)\n",
        "print(\"Powers of 2 up to exponent 5:\")\n",
        "for power in powers:\n",
        "  print(power)"
      ],
      "execution_count": 10,
      "outputs": [
        {
          "output_type": "stream",
          "name": "stdout",
          "text": [
            "Powers of 2 up to exponent 5:\n",
            "1\n",
            "2\n",
            "4\n",
            "8\n",
            "16\n",
            "32\n"
          ]
        }
      ]
    },
    {
      "cell_type": "markdown",
      "source": [
        "7. Implement a generator function that reads a file line by line and yields each line as a string."
      ],
      "metadata": {
        "id": "btIUTU6SBCgK"
      }
    },
    {
      "cell_type": "code",
      "source": [
        "def read_file_line_by_line(file_path):\n",
        "    try:\n",
        "        with open(file_path, \"r\") as file:\n",
        "            for line in file:\n",
        "                yield line.rstrip(\"\\n\")  # remove trailing newline\n",
        "    except FileNotFoundError:\n",
        "        print(f\"Error: The file '{file_path}' was not found.\")\n",
        "    except Exception as e:\n",
        "        print(f\"An error occurred: {e}\")\n",
        "for line in read_file_line_by_line(\"example.txt\"):\n",
        "    print(line)"
      ],
      "metadata": {
        "id": "oRTaNZrODOjq"
      },
      "execution_count": null,
      "outputs": []
    },
    {
      "cell_type": "markdown",
      "source": [
        "8.\n",
        "Use a lambda function in Python to sort a list of tuples based on the second element of each tuple."
      ],
      "metadata": {
        "id": "VVCFE9HrDPqu"
      }
    },
    {
      "cell_type": "code",
      "metadata": {
        "colab": {
          "base_uri": "https://localhost:8080/"
        },
        "id": "2371d6b7",
        "outputId": "27ec2e7b-8f5f-40de-827f-a1630960b470"
      },
      "source": [
        "data = [(1, 5), (3, 1), (4, 7), (2, 3)]\n",
        "sorted_data = sorted(data, key=lambda x: x[1])\n",
        "print(\"Sorted list:\", sorted_data)\n"
      ],
      "execution_count": 14,
      "outputs": [
        {
          "output_type": "stream",
          "name": "stdout",
          "text": [
            "Sorted list: [(3, 1), (2, 3), (1, 5), (4, 7)]\n"
          ]
        }
      ]
    },
    {
      "cell_type": "markdown",
      "source": [
        "9 Write a Python program that uses `map()` to convert a list of temperatures from Celsius to Fahrenheit."
      ],
      "metadata": {
        "id": "7G28G6VyDwJ5"
      }
    },
    {
      "cell_type": "code",
      "source": [
        "def c_to_f(celsius):\n",
        "    return (celsius * 9/5) + 32\n",
        "celsius_temps = [0, 20, 37, 100]\n",
        "fahrenheit_temps = list(map(c_to_f, celsius_temps))\n",
        "print(\"Celsius temperatures:   \", celsius_temps)\n",
        "print(\"Fahrenheit temperatures:\", fahrenheit_temps)\n"
      ],
      "metadata": {
        "colab": {
          "base_uri": "https://localhost:8080/"
        },
        "id": "9FeWtmfXD7jN",
        "outputId": "1031b0b3-4629-42f4-ab08-7f6bc6a4b59c"
      },
      "execution_count": 15,
      "outputs": [
        {
          "output_type": "stream",
          "name": "stdout",
          "text": [
            "Celsius temperatures:    [0, 20, 37, 100]\n",
            "Fahrenheit temperatures: [32.0, 68.0, 98.6, 212.0]\n"
          ]
        }
      ]
    },
    {
      "cell_type": "markdown",
      "source": [
        "10. Create a Python program that uses `filter()` to remove all the vowels from a given string."
      ],
      "metadata": {
        "id": "5raqwPRSEDHX"
      }
    },
    {
      "cell_type": "code",
      "source": [
        "def remove_vowels(text):\n",
        "    vowels = \"aeiouAEIOU\"\n",
        "    result = filter(lambda ch: ch not in vowels, text)\n",
        "    return \"\".join(result)\n",
        "input_str = \"Hello World, Python is amazing!\"\n",
        "output_str = remove_vowels(input_str)\n",
        "print(\"Original string:\", input_str)\n",
        "print(\"Without vowels :\", output_str)\n"
      ],
      "metadata": {
        "colab": {
          "base_uri": "https://localhost:8080/"
        },
        "id": "QS7Q5YJUEH82",
        "outputId": "d7c57e8b-18d4-4145-dae3-e750ead789d9"
      },
      "execution_count": 16,
      "outputs": [
        {
          "output_type": "stream",
          "name": "stdout",
          "text": [
            "Original string: Hello World, Python is amazing!\n",
            "Without vowels : Hll Wrld, Pythn s mzng!\n"
          ]
        }
      ]
    },
    {
      "cell_type": "markdown",
      "source": [
        "11. Imagine an accounting routine used in a book shop. It works on a list with sublists, which look like this:\n",
        " Write a Python program, which returns a list with 2-tuples. Each tuple consists of the order number and the\n",
        "product of the price per item and the quantity. The product should be increased by 10,- € if the value of the\n",
        "order is smaller than 100,00 €.\n",
        " Write a Python program using lambda and map"
      ],
      "metadata": {
        "id": "CVKE9PTOEQhQ"
      }
    },
    {
      "cell_type": "code",
      "source": [
        "orders = [\n",
        "    [34587, \"Learning Python\", 4, 40.95],\n",
        "    [98762, \"Programming in C\", 3, 32.95],\n",
        "    [77226, \"Head First Java\", 3, 24.99],\n",
        "    [88112, \"Automate the Boring Stuff\", 1, 49.95]\n",
        "]\n",
        "result = list(map(\n",
        "    lambda order: (order[0], order[2] * order[3] if order[2] * order[3] >= 100 else order[2] * order[3] + 10),\n",
        "    orders\n",
        "))\n",
        "\n",
        "# Print results\n",
        "print(\"Final invoices:\", result)\n"
      ],
      "metadata": {
        "colab": {
          "base_uri": "https://localhost:8080/"
        },
        "id": "UvCejeyCEyHx",
        "outputId": "d0ba4417-fc9b-47ea-92c8-5e6d994cb20c"
      },
      "execution_count": 19,
      "outputs": [
        {
          "output_type": "stream",
          "name": "stdout",
          "text": [
            "Final invoices: [(34587, 163.8), (98762, 108.85000000000001), (77226, 84.97), (88112, 59.95)]\n"
          ]
        }
      ]
    }
  ]
}