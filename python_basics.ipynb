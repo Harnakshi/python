{
  "nbformat": 4,
  "nbformat_minor": 0,
  "metadata": {
    "colab": {
      "provenance": [],
      "authorship_tag": "ABX9TyN9m9c3u0JXZodP/GbI6pti",
      "include_colab_link": true
    },
    "kernelspec": {
      "name": "python3",
      "display_name": "Python 3"
    },
    "language_info": {
      "name": "python"
    }
  },
  "cells": [
    {
      "cell_type": "markdown",
      "metadata": {
        "id": "view-in-github",
        "colab_type": "text"
      },
      "source": [
        "<a href=\"https://colab.research.google.com/github/Harnakshi/python/blob/main/python_basics.ipynb\" target=\"_parent\"><img src=\"https://colab.research.google.com/assets/colab-badge.svg\" alt=\"Open In Colab\"/></a>"
      ]
    },
    {
      "cell_type": "markdown",
      "source": [
        "1. Write a Python program to print \"Hello, World!"
      ],
      "metadata": {
        "id": "Uy5wUwPqdkF9"
      }
    },
    {
      "cell_type": "code",
      "source": [
        "print(\"Hello World!\")"
      ],
      "metadata": {
        "colab": {
          "base_uri": "https://localhost:8080/"
        },
        "id": "ojaYBx3dWdZG",
        "outputId": "9a6a46d2-5489-47af-cf59-72cf749853f4"
      },
      "execution_count": null,
      "outputs": [
        {
          "output_type": "stream",
          "name": "stdout",
          "text": [
            "Hello World!\n"
          ]
        }
      ]
    },
    {
      "cell_type": "markdown",
      "source": [
        "2. Write a Python program that displays your name and age."
      ],
      "metadata": {
        "id": "DH3rzmMjdrep"
      }
    },
    {
      "cell_type": "code",
      "source": [
        "print(\"Name=HARNAKSHI\")\n",
        "print(\"Age=19\")\n"
      ],
      "metadata": {
        "colab": {
          "base_uri": "https://localhost:8080/"
        },
        "id": "8VD3qEiXWyAu",
        "outputId": "b14958cb-8131-43b8-fd8f-af1c2e483de3"
      },
      "execution_count": null,
      "outputs": [
        {
          "output_type": "stream",
          "name": "stdout",
          "text": [
            "Name=HARNAKSHI\n",
            "Age=19\n"
          ]
        }
      ]
    },
    {
      "cell_type": "markdown",
      "source": [
        "3.Write code to print all the pre-defined keywords in Python using the keyword library"
      ],
      "metadata": {
        "id": "m3FabhTjd1vo"
      }
    },
    {
      "cell_type": "code",
      "source": [
        "import keyword\n",
        "print(keyword.kwlist)"
      ],
      "metadata": {
        "colab": {
          "base_uri": "https://localhost:8080/"
        },
        "id": "-JX9DPSIXXb_",
        "outputId": "2e351467-79e0-409e-e7e0-d705f9fdd8f0"
      },
      "execution_count": null,
      "outputs": [
        {
          "output_type": "stream",
          "name": "stdout",
          "text": [
            "['False', 'None', 'True', 'and', 'as', 'assert', 'async', 'await', 'break', 'class', 'continue', 'def', 'del', 'elif', 'else', 'except', 'finally', 'for', 'from', 'global', 'if', 'import', 'in', 'is', 'lambda', 'nonlocal', 'not', 'or', 'pass', 'raise', 'return', 'try', 'while', 'with', 'yield']\n"
          ]
        }
      ]
    },
    {
      "cell_type": "markdown",
      "source": [
        "4.Write a program that checks if a given word is a Python keyword."
      ],
      "metadata": {
        "id": "LfksRYo-eH6w"
      }
    },
    {
      "cell_type": "code",
      "source": [
        "import keyword\n",
        "word=\"while\"\n",
        "if word in keyword.kwlist:\n",
        "  print(f\"'{word}'is a pyhton keyword\")\n",
        "else:\n",
        "  print(f\"'{word}'is not a python keyword\")\n"
      ],
      "metadata": {
        "colab": {
          "base_uri": "https://localhost:8080/"
        },
        "id": "Wle-xtSGYPdn",
        "outputId": "e9d5c0e7-3ff7-458c-adae-c326bd8dee0c"
      },
      "execution_count": null,
      "outputs": [
        {
          "output_type": "stream",
          "name": "stdout",
          "text": [
            "'while'is a pyhton keyword\n"
          ]
        }
      ]
    },
    {
      "cell_type": "markdown",
      "source": [
        " 5. Create a list and tuple in Python, and demonstrate how attempting to change an element works differently\n",
        "for each."
      ],
      "metadata": {
        "id": "dJH_uAhXjtDO"
      }
    },
    {
      "cell_type": "code",
      "source": [
        "\n",
        "list = [10, 20, 30, 40, 50]\n",
        "tuple = (10, 20, 30, 40, 50)\n",
        "print(\"list before modification:\", list)\n",
        "list[1] = 70\n",
        "print(\"list after modification:\", list)\n",
        "tuple = (10, 20, 30, 40, 50)\n",
        "print(\"tuple before modification:\", tuple)\n",
        "tuple[1]=70\n",
        "print(\"tuple after modification:\", tuple)\n",
        "\n",
        "\n",
        "\n",
        "\n",
        "# we cannot change particular elements within a tuple after it has been created. Tuples are immutable, while lists are mutable"
      ],
      "metadata": {
        "colab": {
          "base_uri": "https://localhost:8080/",
          "height": 273
        },
        "id": "UFnSix402dj8",
        "outputId": "c9f41345-0257-48b6-d92f-5d4937973c33"
      },
      "execution_count": null,
      "outputs": [
        {
          "output_type": "stream",
          "name": "stdout",
          "text": [
            "list before modification: [10, 20, 30, 40, 50]\n",
            "list after modification: [10, 70, 30, 40, 50]\n",
            "tuple before modification: (10, 20, 30, 40, 50)\n"
          ]
        },
        {
          "output_type": "error",
          "ename": "TypeError",
          "evalue": "'tuple' object does not support item assignment",
          "traceback": [
            "\u001b[0;31m---------------------------------------------------------------------------\u001b[0m",
            "\u001b[0;31mTypeError\u001b[0m                                 Traceback (most recent call last)",
            "\u001b[0;32m/tmp/ipython-input-4283228131.py\u001b[0m in \u001b[0;36m<cell line: 0>\u001b[0;34m()\u001b[0m\n\u001b[1;32m      6\u001b[0m \u001b[0mtuple\u001b[0m \u001b[0;34m=\u001b[0m \u001b[0;34m(\u001b[0m\u001b[0;36m10\u001b[0m\u001b[0;34m,\u001b[0m \u001b[0;36m20\u001b[0m\u001b[0;34m,\u001b[0m \u001b[0;36m30\u001b[0m\u001b[0;34m,\u001b[0m \u001b[0;36m40\u001b[0m\u001b[0;34m,\u001b[0m \u001b[0;36m50\u001b[0m\u001b[0;34m)\u001b[0m\u001b[0;34m\u001b[0m\u001b[0;34m\u001b[0m\u001b[0m\n\u001b[1;32m      7\u001b[0m \u001b[0mprint\u001b[0m\u001b[0;34m(\u001b[0m\u001b[0;34m\"tuple before modification:\"\u001b[0m\u001b[0;34m,\u001b[0m \u001b[0mtuple\u001b[0m\u001b[0;34m)\u001b[0m\u001b[0;34m\u001b[0m\u001b[0;34m\u001b[0m\u001b[0m\n\u001b[0;32m----> 8\u001b[0;31m \u001b[0mtuple\u001b[0m\u001b[0;34m[\u001b[0m\u001b[0;36m1\u001b[0m\u001b[0;34m]\u001b[0m\u001b[0;34m=\u001b[0m\u001b[0;36m70\u001b[0m\u001b[0;34m\u001b[0m\u001b[0;34m\u001b[0m\u001b[0m\n\u001b[0m\u001b[1;32m      9\u001b[0m \u001b[0mprint\u001b[0m\u001b[0;34m(\u001b[0m\u001b[0;34m\"tuple after modification:\"\u001b[0m\u001b[0;34m,\u001b[0m \u001b[0mtuple\u001b[0m\u001b[0;34m)\u001b[0m\u001b[0;34m\u001b[0m\u001b[0;34m\u001b[0m\u001b[0m\n\u001b[1;32m     10\u001b[0m \u001b[0;34m\u001b[0m\u001b[0m\n",
            "\u001b[0;31mTypeError\u001b[0m: 'tuple' object does not support item assignment"
          ]
        }
      ]
    },
    {
      "cell_type": "markdown",
      "source": [
        "6. Write a function to demonstrate the behavior of mutable and immutable arguments."
      ],
      "metadata": {
        "id": "4NDqIe9Z2kWL"
      }
    },
    {
      "cell_type": "code",
      "source": [
        "def mutable_immutable(mutable_list, immutable_int):\n",
        "  print(\"Inside the function:\")\n",
        "  print(\"  Original mutable_list:\", mutable_list)\n",
        "  print(\"  Original immutable_int:\", immutable_int)\n",
        "  mutable_list.append(99)\n",
        "  print(\"  Modified mutable_list:\", mutable_list)\n",
        "  immutable_int = immutable_int + 10\n",
        "  print(\"  Modified immutable_int:\", immutable_int)\n",
        "my_list = [1, 2, 3]\n",
        "my_int = 10\n",
        "print(\"Before calling the function:\")\n",
        "print(\"  my_list:\", my_list)\n",
        "print(\"  my_int:\", my_int)\n",
        "mutable_immutable(my_list, my_int)\n",
        "print(\"After calling the function:\")\n",
        "print(\"  my_list:\", my_list)\n",
        "print(\"  my_int:\", my_int)"
      ],
      "metadata": {
        "colab": {
          "base_uri": "https://localhost:8080/"
        },
        "id": "nl-TJLFP2qTK",
        "outputId": "5aa1acec-e276-4956-c86e-d89ab41e7283"
      },
      "execution_count": null,
      "outputs": [
        {
          "output_type": "stream",
          "name": "stdout",
          "text": [
            "Before calling the function:\n",
            "  my_list: [1, 2, 3]\n",
            "  my_int: 10\n",
            "Inside the function:\n",
            "  Original mutable_list: [1, 2, 3]\n",
            "  Original immutable_int: 10\n",
            "  Modified mutable_list: [1, 2, 3, 99]\n",
            "  Modified immutable_int: 20\n",
            "After calling the function:\n",
            "  my_list: [1, 2, 3, 99]\n",
            "  my_int: 10\n"
          ]
        }
      ]
    },
    {
      "cell_type": "markdown",
      "source": [
        "7. Write a program that performs basic arithmetic operations on two user-input numbers."
      ],
      "metadata": {
        "id": "VgUx4eetkM3G"
      }
    },
    {
      "cell_type": "code",
      "source": [
        "a=int(input(\"enter first number:\"))\n",
        "b=int(input(\"enter second number:\"))\n",
        "print(\"addition:\",a+b)\n",
        "print(\"subtraction:\",a-b)\n",
        "print(\"multiplication:\",a*b)\n",
        "print(\"division:\",a/b)\n",
        "print(\"floor division\",a//b)"
      ],
      "metadata": {
        "colab": {
          "base_uri": "https://localhost:8080/"
        },
        "id": "ieNoOWEEioFH",
        "outputId": "8b7e60e2-2327-4346-e8f6-e10314e2dbf0"
      },
      "execution_count": null,
      "outputs": [
        {
          "output_type": "stream",
          "name": "stdout",
          "text": [
            "enter first number:12\n",
            "enter second number:5\n",
            "addition: 17\n",
            "subtraction: 7\n",
            "multiplication: 60\n",
            "division: 2.4\n",
            "floor division 2\n"
          ]
        }
      ]
    },
    {
      "cell_type": "markdown",
      "source": [
        " 8. Write a program to demonstrate the use of logical operators.\n",
        "\n"
      ],
      "metadata": {
        "id": "te2VA9iMltyi"
      }
    },
    {
      "cell_type": "code",
      "source": [
        "# LOGICAL AND\n",
        "\n",
        "a=5\n",
        "b=10\n",
        "print(a>2 and b<12) # the 'logical and' operator returns 'true' if both conditions are true\n",
        "print(a>2 and b>12) # the 'logical and' operator returns 'false' if any of the condition becomes false\n"
      ],
      "metadata": {
        "colab": {
          "base_uri": "https://localhost:8080/"
        },
        "id": "9E_zSSqPlx71",
        "outputId": "0b08a946-c4c9-4ead-e9af-e7120cb336e3"
      },
      "execution_count": null,
      "outputs": [
        {
          "output_type": "stream",
          "name": "stdout",
          "text": [
            "True\n",
            "False\n"
          ]
        }
      ]
    },
    {
      "cell_type": "code",
      "source": [
        "# LOGICAL OR\n",
        "\n",
        "a=5\n",
        "b=10\n",
        "print(a>2 or b<12) # the 'logical or' operator returns 'true' if any one condition is true\n",
        "print(a<2 or b>12) # the 'logical or' operator returns 'false' if all the conditions are false\n"
      ],
      "metadata": {
        "colab": {
          "base_uri": "https://localhost:8080/"
        },
        "id": "7ov2YoOqm6G6",
        "outputId": "44a3d744-508c-4138-d976-87fcb6a0abd5"
      },
      "execution_count": null,
      "outputs": [
        {
          "output_type": "stream",
          "name": "stdout",
          "text": [
            "True\n",
            "False\n"
          ]
        }
      ]
    },
    {
      "cell_type": "code",
      "source": [
        "# LOGICAL NOT\n",
        "\n",
        "a=5\n",
        "b=10\n",
        "print(not b<12) # the 'logical not' operator reverse the boolean value\n",
        "\n",
        "\n",
        "\n"
      ],
      "metadata": {
        "colab": {
          "base_uri": "https://localhost:8080/"
        },
        "id": "5nNB1Omvoyn3",
        "outputId": "0903938f-3139-4d9e-dc48-bb166a24e9b9"
      },
      "execution_count": null,
      "outputs": [
        {
          "output_type": "stream",
          "name": "stdout",
          "text": [
            "False\n"
          ]
        }
      ]
    },
    {
      "cell_type": "markdown",
      "source": [
        " 10. Write code to demonstrate type casting with list elements."
      ],
      "metadata": {
        "id": "fJPj6RaG7lQO"
      }
    },
    {
      "cell_type": "code",
      "source": [
        "\n",
        "original_list = ['1', '2', '3', '4', '5']\n",
        "\n",
        "s\n",
        "int_list = [int(element) for element in original_list]\n",
        "print(\"List with integers:\", int_list)\n",
        "\n",
        "float_list = [float(element) for element in original_list]\n",
        "print(\"List with floats:\", float_list)\n",
        "\n",
        "\n",
        "string_list = [str(element) for element in int_list]\n",
        "print(\"List with strings:\", string_list)\n",
        "\n"
      ],
      "metadata": {
        "colab": {
          "base_uri": "https://localhost:8080/"
        },
        "id": "jSYm-UGV9BOt",
        "outputId": "3a87bc21-f433-473c-84a0-579a77ee605f"
      },
      "execution_count": null,
      "outputs": [
        {
          "output_type": "stream",
          "name": "stdout",
          "text": [
            "List with integers: [1, 2, 3, 4, 5]\n",
            "List with floats: [1.0, 2.0, 3.0, 4.0, 5.0]\n",
            "List with strings: ['1', '2', '3', '4', '5']\n"
          ]
        }
      ]
    },
    {
      "cell_type": "markdown",
      "source": [
        "11. Write a program that checks if a number is positive, negative, or zero."
      ],
      "metadata": {
        "id": "Mm2aR6Kh9v9w"
      }
    },
    {
      "cell_type": "code",
      "source": [
        "a=int(input(\"enter a number:\"))\n",
        "if a>0:\n",
        "  print(\"number is positive\")\n",
        "elif a<0:\n",
        "  print(\"number is negative\")\n",
        "else:\n",
        "  print(\"number is zero\")"
      ],
      "metadata": {
        "colab": {
          "base_uri": "https://localhost:8080/"
        },
        "id": "tecsnzLy97-r",
        "outputId": "efe6d66f-5a6f-49cb-8021-7503af4715f1"
      },
      "execution_count": null,
      "outputs": [
        {
          "output_type": "stream",
          "name": "stdout",
          "text": [
            "enter a number:-5\n",
            "number is negative\n"
          ]
        }
      ]
    },
    {
      "cell_type": "markdown",
      "source": [
        " 12. Write a for loop to print numbers from 1 to 10."
      ],
      "metadata": {
        "id": "qbzRybt9pcJ9"
      }
    },
    {
      "cell_type": "code",
      "source": [
        "for i in range(0,10):\n",
        "  i+=1\n",
        "  print(i)"
      ],
      "metadata": {
        "colab": {
          "base_uri": "https://localhost:8080/"
        },
        "id": "MRfGT75Npd5O",
        "outputId": "4412768b-202d-481e-f1b2-05889269c107"
      },
      "execution_count": null,
      "outputs": [
        {
          "output_type": "stream",
          "name": "stdout",
          "text": [
            "1\n",
            "2\n",
            "3\n",
            "4\n",
            "5\n",
            "6\n",
            "7\n",
            "8\n",
            "9\n",
            "10\n"
          ]
        }
      ]
    },
    {
      "cell_type": "markdown",
      "source": [
        "13. Write a Python program to find the sum of all even numbers between 1 and 50."
      ],
      "metadata": {
        "id": "8C9QSaNv-Vej"
      }
    },
    {
      "cell_type": "code",
      "metadata": {
        "colab": {
          "base_uri": "https://localhost:8080/"
        },
        "id": "a89cbb60",
        "outputId": "003d7c8b-e622-4fcf-fd3a-ec6340e008dd"
      },
      "source": [
        "sum_of_evens = 0\n",
        "for number in range(1, 51):\n",
        "  if number % 2 == 0:\n",
        "    sum_of_evens += number\n",
        "print(\"The sum of all even numbers between 1 and 50 is:\", sum_of_evens)"
      ],
      "execution_count": null,
      "outputs": [
        {
          "output_type": "stream",
          "name": "stdout",
          "text": [
            "The sum of all even numbers between 1 and 50 is: 650\n"
          ]
        }
      ]
    },
    {
      "cell_type": "markdown",
      "source": [
        " 14. Write a program to reverse a string using a while loop."
      ],
      "metadata": {
        "id": "Mi1Z842HAFnl"
      }
    },
    {
      "cell_type": "code",
      "source": [
        "original_string = input(\"Enter a string to reverse: \")\n",
        "reversed_string = \"\"\n",
        "index = len(original_string) - 1\n",
        "while index >= 0:\n",
        "    reversed_string += original_string[index]\n",
        "    index -= 1\n",
        "print(\"Reversed string:\", reversed_string)\n",
        "\n"
      ],
      "metadata": {
        "colab": {
          "base_uri": "https://localhost:8080/"
        },
        "id": "YS5nbWyxAMze",
        "outputId": "1f26e4b7-b431-4f7f-b23f-479574ddfad2"
      },
      "execution_count": null,
      "outputs": [
        {
          "output_type": "stream",
          "name": "stdout",
          "text": [
            "Enter a string to reverse: harnakshi\n",
            "Reversed string: ihskanrah\n"
          ]
        }
      ]
    },
    {
      "cell_type": "markdown",
      "source": [
        "15. Write a Python program to calculate the factorial of a number provided by the user using a while loop."
      ],
      "metadata": {
        "id": "r9xVWf4CCz4n"
      }
    },
    {
      "cell_type": "code",
      "source": [
        "num = int(input(\"Enter a non-negative number: \"))\n",
        "factorial = 1\n",
        "i = 1\n",
        "while i <= num:\n",
        "        factorial *= i\n",
        "        i += 1\n",
        "print(f\"The factorial of {num} is {factorial}.\")\n",
        "\n"
      ],
      "metadata": {
        "colab": {
          "base_uri": "https://localhost:8080/"
        },
        "id": "hURTSGWTC6km",
        "outputId": "0c6413cf-3f68-4bd4-f7dc-0975bc5524c3"
      },
      "execution_count": null,
      "outputs": [
        {
          "output_type": "stream",
          "name": "stdout",
          "text": [
            "Enter a non-negative number: 6\n",
            "The factorial of 6 is 720.\n"
          ]
        }
      ]
    }
  ]
}