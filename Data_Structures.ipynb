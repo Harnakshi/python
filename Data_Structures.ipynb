{
  "nbformat": 4,
  "nbformat_minor": 0,
  "metadata": {
    "colab": {
      "provenance": []
    },
    "kernelspec": {
      "name": "python3",
      "display_name": "Python 3"
    },
    "language_info": {
      "name": "python"
    }
  },
  "cells": [
    {
      "cell_type": "markdown",
      "source": [
        " 1. What are data structures, and why are they important ?"
      ],
      "metadata": {
        "id": "ozQhpID35PJO"
      }
    },
    {
      "cell_type": "markdown",
      "source": [
        "  Data structures are specialized formats for organizing, processing, and storing data so a computer can easily use it.Data structures are important because they organize, manage, and store data in ways that make it efficient to access and modify."
      ],
      "metadata": {
        "id": "XHp_k61A5Xqj"
      }
    },
    {
      "cell_type": "markdown",
      "source": [
        "2. Explain the difference between mutable and immutable data types with examples."
      ],
      "metadata": {
        "id": "9v_1lmbN7TLj"
      }
    },
    {
      "cell_type": "markdown",
      "source": [
        "  1.mutable data types: Objects that can be changed after they are created.\n",
        "Examples in Python:list,dict,set\n",
        "\n",
        "  2.immutabe data types: Objects that cannot be changed once created. Any operation that seems to modify it will create a new object.\n",
        "Examples in Python:str, touple\n",
        "\n",
        "\n",
        "\n",
        "\n"
      ],
      "metadata": {
        "id": "OkxjAAHK7i7V"
      }
    },
    {
      "cell_type": "markdown",
      "source": [
        "3. What are the main differences between lists and tuples in Python ?\n",
        "    \n",
        "\n"
      ],
      "metadata": {
        "id": "kqs8f4BP8PM0"
      }
    },
    {
      "cell_type": "markdown",
      "source": [
        "  The main difference between lists and tuples are that list is mutable whereas tuples are immutable.In list we use square brackets[] whereas in tuples we use parenthesis.list have methods like append(),remove.Tuple have methods like count(),index()."
      ],
      "metadata": {
        "id": "9er9QyBK9HD-"
      }
    },
    {
      "cell_type": "markdown",
      "source": [
        "4. Describe how dictionaries store data.\n",
        "\n",
        "\n",
        "\n",
        "\n"
      ],
      "metadata": {
        "id": "pnyz9P9o-Dyj"
      }
    },
    {
      "cell_type": "markdown",
      "source": [
        "  Dictionaries store data in the form of \"key\" and \"value\".A dictionary is an unordered, mutable collection of key-value pairs.\n",
        "\n",
        "  Syntax:-dict_name={\"key1\"=\"value1\",\"key2\"=\"value2}"
      ],
      "metadata": {
        "id": "vOF0e9Fe_KnE"
      }
    },
    {
      "cell_type": "markdown",
      "source": [
        "5. Why might you use a set instead of a list in Python ?\n"
      ],
      "metadata": {
        "id": "VgoeXpDmAZlE"
      }
    },
    {
      "cell_type": "markdown",
      "source": [
        "   we use a set instead of a list in Python when we need unique elements. Set automatically removes duplicates.List allows duplicates."
      ],
      "metadata": {
        "id": "jfN_kkuHAVRk"
      }
    },
    {
      "cell_type": "markdown",
      "source": [
        "6. What is a string in Python, and how is it different from a list ?"
      ],
      "metadata": {
        "id": "gBkFWIsnBIdf"
      }
    },
    {
      "cell_type": "markdown",
      "source": [
        "  In Python, a string is a sequence of characters used to represent text, while a list is a sequence that can store items of any data type.String is immutable which means objects cannot be changed after creation."
      ],
      "metadata": {
        "id": "M-7-q0WxCsMv"
      }
    },
    {
      "cell_type": "markdown",
      "source": [
        "7. How do tuples ensure data integrity in Python ?"
      ],
      "metadata": {
        "id": "ulhsk1RgDLB0"
      }
    },
    {
      "cell_type": "markdown",
      "source": [
        "  Tuples ensure data integrity in Python mainly through their immutability, meaning once a tuple is created, its contents cannot be changed. This makes them ideal for storing fixed or constant data."
      ],
      "metadata": {
        "id": "yNM-Q7A9DQcU"
      }
    },
    {
      "cell_type": "markdown",
      "source": [
        "8. What is a hash table, and how does it relate to dictionaries in Python ?"
      ],
      "metadata": {
        "id": "o3X35vcqDhhy"
      }
    },
    {
      "cell_type": "markdown",
      "source": [
        " A hash table is a data structure that stores key-value pairs and provides fast access to values based on their keys using a concept called hashing.In Python, the built-in_dict (dictionary) type is implemented using a hash table."
      ],
      "metadata": {
        "id": "iYBFsEM6Egwq"
      }
    },
    {
      "cell_type": "markdown",
      "source": [
        "9.  Can lists contain different data types in Python ?"
      ],
      "metadata": {
        "id": "8Fx1tEQjEyhV"
      }
    },
    {
      "cell_type": "markdown",
      "source": [
        "  Yes, lists in Python can contain different data types. Python lists are heterogeneous, meaning they can store a mix of data types like int,float,string,etc."
      ],
      "metadata": {
        "id": "zHP3aAslFDfy"
      }
    },
    {
      "cell_type": "markdown",
      "source": [
        "10.  Explain why strings are immutable in Python ?"
      ],
      "metadata": {
        "id": "OabY3Je5FLMf"
      }
    },
    {
      "cell_type": "markdown",
      "source": [
        "  Strings are immutable in Python because their contents cannot be changed after creation.When you pass a string to a function or assign it to another variable, it can’t be changed."
      ],
      "metadata": {
        "id": "YM6l2k59FX5p"
      }
    },
    {
      "cell_type": "markdown",
      "source": [
        "11. What advantages do dictionaries offer over lists for certain tasks ?"
      ],
      "metadata": {
        "id": "IFEcE0VKFpoH"
      }
    },
    {
      "cell_type": "markdown",
      "source": [
        "  Dictionaries in Python offer several advantages over lists for specific tasks, especially when it comes to organizing and accessing data efficiently.With dictionaries, you access values using keys (like \"name\") instead of numerical indexes.In dictionaries, you only need to know the key whereas in lists, you must know the exact index to retrieve a value"
      ],
      "metadata": {
        "id": "8OPHvnfzGJ1S"
      }
    },
    {
      "cell_type": "markdown",
      "source": [
        "12.  Describe a scenario where using a tuple would be preferable over a list."
      ],
      "metadata": {
        "id": "89myViBBGwYI"
      }
    },
    {
      "cell_type": "markdown",
      "source": [
        "If we want to store the adhar card number of a person then we can use tuple because adhar card number remains fixed. it cannot be changed.\n",
        "\n",
        "\n",
        "\n"
      ],
      "metadata": {
        "id": "ZiT89ZVqHfWD"
      }
    },
    {
      "cell_type": "markdown",
      "source": [
        "13.  How do sets handle duplicate values in Python ?"
      ],
      "metadata": {
        "id": "UwwzcrUPH63N"
      }
    },
    {
      "cell_type": "markdown",
      "source": [
        "  In Python, a set is a collection that cannot contain duplicate values. When you add duplicates to a set, Python will only keep one copy of each unique item.Sets are built using hash tables, which don't allow duplicate keys."
      ],
      "metadata": {
        "id": "cHrXsAtRIJXj"
      }
    },
    {
      "cell_type": "markdown",
      "source": [
        "14.  How does the “in” keyword work differently for lists and dictionaries ?"
      ],
      "metadata": {
        "id": "q5UuP_NjILdM"
      }
    },
    {
      "cell_type": "markdown",
      "source": [
        "  The \"in\" keyword behaves differently for lists and dictionaries.In lists,the in keyword checks whether a value exists in the list.In dictionaries,the in keyword checks whether a key exists in the dictionary (not the value)."
      ],
      "metadata": {
        "id": "i2fugANzHx4j"
      }
    },
    {
      "cell_type": "markdown",
      "source": [
        "15.  Can you modify the elements of a tuple? Explain why or why not?"
      ],
      "metadata": {
        "id": "4sAAaaoEJAF5"
      }
    },
    {
      "cell_type": "markdown",
      "source": [
        "  No, we cannot modify the elements of a tuple in Python.Tuples are immutable, which means once created, their contents cannot be changed — no adding, removing, or updating elements."
      ],
      "metadata": {
        "id": "JCD9QkD4JjMP"
      }
    },
    {
      "cell_type": "markdown",
      "source": [
        "16.  What is a nested dictionary, and give an example of its use case ?"
      ],
      "metadata": {
        "id": "8xS9lUdoKBKC"
      }
    },
    {
      "cell_type": "markdown",
      "source": [
        "  A nested dictionary is a dictionary inside another dictionary.\n",
        "It allows you to organize complex data in a structured way — like a table,student record."
      ],
      "metadata": {
        "id": "cFJeyXm9KPSD"
      }
    },
    {
      "cell_type": "markdown",
      "source": [
        "17.  Describe the time complexity of accessing elements in a dictionary."
      ],
      "metadata": {
        "id": "1fBXxv5BMN8X"
      }
    },
    {
      "cell_type": "markdown",
      "source": [
        "  Accessing an element using a key like dict_name[key] is very fast.Python dictionaries are implemented using hash tables, which allow direct access to a value using its key."
      ],
      "metadata": {
        "id": "FuTHDVnXMiWb"
      }
    },
    {
      "cell_type": "markdown",
      "source": [
        "18. In what situations are lists preferred over dictionaries ."
      ],
      "metadata": {
        "id": "5m65HACfMrTQ"
      }
    },
    {
      "cell_type": "markdown",
      "source": [
        "  Lists maintain the order of elements.we use lists when we want to access the items by position.Example:-my_list[idx no].Lists support sorting, slicing, and other sequence operations that dictionaries do not."
      ],
      "metadata": {
        "id": "uUeetBypNTI9"
      }
    },
    {
      "cell_type": "markdown",
      "source": [
        "19.  Why are dictionaries considered unordered, and how does that affect data retrieval ?"
      ],
      "metadata": {
        "id": "Jh3MO_K_Nu1Y"
      }
    },
    {
      "cell_type": "markdown",
      "source": [
        "  Dictionaries are considered unordered because they use keys, not positions for access. Even though newer versions of Python preserve insertion order, they are still not meant for order-based operations like lists."
      ],
      "metadata": {
        "id": "l6v8oXr0N7pL"
      }
    },
    {
      "cell_type": "markdown",
      "source": [
        "20.  Explain the difference between a list and a dictionary in terms of data retrieval."
      ],
      "metadata": {
        "id": "f2Chse7pOOUc"
      }
    },
    {
      "cell_type": "markdown",
      "source": [
        "  A list retrieves data using indexes (numbers starting from 0) whereas dictionary retrieves data using keys.\n",
        "\n",
        "  A list is in the ordered format whereas dictionaries are in unordered format.\n",
        "\n",
        "  We use slicing in list whereas in dictionary slicing is not used.\n",
        "   "
      ],
      "metadata": {
        "id": "YWPiWwOiOVMF"
      }
    },
    {
      "cell_type": "markdown",
      "source": [
        "**PRACTICAL QUESTIONS**"
      ],
      "metadata": {
        "id": "TjC3hGYFbVb9"
      }
    },
    {
      "cell_type": "markdown",
      "source": [
        "1. Write a code to create a string with your name and print it."
      ],
      "metadata": {
        "id": "0rqbb2IabiM-"
      }
    },
    {
      "cell_type": "code",
      "source": [
        "my_name = \"HARNAKSHI\"\n",
        "print(\"My name is\", my_name)"
      ],
      "metadata": {
        "colab": {
          "base_uri": "https://localhost:8080/"
        },
        "id": "pyPNQ0y6b114",
        "outputId": "346330fc-65bb-4495-e14b-0d355ee4d866"
      },
      "execution_count": 1,
      "outputs": [
        {
          "output_type": "stream",
          "name": "stdout",
          "text": [
            "My name is HARNAKSHI\n"
          ]
        }
      ]
    },
    {
      "cell_type": "markdown",
      "source": [
        "2.  Write a code to find the length of the string \"Hello World\"."
      ],
      "metadata": {
        "id": "X4gVrZIkcKDp"
      }
    },
    {
      "cell_type": "code",
      "source": [
        "my_str=\"Hello World\"\n",
        "print(len(my_str))"
      ],
      "metadata": {
        "colab": {
          "base_uri": "https://localhost:8080/"
        },
        "id": "qjasz8e6cPXH",
        "outputId": "02afaf49-9ef1-4214-e184-6ddf9d490386"
      },
      "execution_count": 2,
      "outputs": [
        {
          "output_type": "stream",
          "name": "stdout",
          "text": [
            "11\n"
          ]
        }
      ]
    },
    {
      "cell_type": "markdown",
      "source": [
        "3.  Write a code to slice the first 3 characters from the string \"Python Programming\"."
      ],
      "metadata": {
        "id": "SbvBsAGKcgn4"
      }
    },
    {
      "cell_type": "code",
      "source": [
        "my_str=\"Python Programming\"\n",
        "print(my_str[0:3])"
      ],
      "metadata": {
        "colab": {
          "base_uri": "https://localhost:8080/"
        },
        "id": "kIRJOsJqcjbc",
        "outputId": "413b144a-aca3-42de-c09a-535b4e8237b5"
      },
      "execution_count": 4,
      "outputs": [
        {
          "output_type": "stream",
          "name": "stdout",
          "text": [
            "Pyt\n"
          ]
        }
      ]
    },
    {
      "cell_type": "markdown",
      "source": [
        "4. Write a code to convert the string \"hello\" to uppercase."
      ],
      "metadata": {
        "id": "BKNusFxBdARC"
      }
    },
    {
      "cell_type": "code",
      "source": [
        "my_str=\"hello\"\n",
        "print(my_str.upper())"
      ],
      "metadata": {
        "colab": {
          "base_uri": "https://localhost:8080/"
        },
        "id": "LQraBYGqc7et",
        "outputId": "35500b98-c5a7-4838-bf9f-1c3a14803f96"
      },
      "execution_count": 5,
      "outputs": [
        {
          "output_type": "stream",
          "name": "stdout",
          "text": [
            "HELLO\n"
          ]
        }
      ]
    },
    {
      "cell_type": "markdown",
      "source": [
        "5. Write a code to replace the word \"apple\" with \"orange\" in the string \"I like apple\"."
      ],
      "metadata": {
        "id": "sFjDGfZldNMI"
      }
    },
    {
      "cell_type": "code",
      "source": [
        "my_str=\"i  like apple\"\n",
        "print(my_str.replace(\"apple\",\"orange\"))"
      ],
      "metadata": {
        "colab": {
          "base_uri": "https://localhost:8080/"
        },
        "id": "jKXtXoNvdxeH",
        "outputId": "bcf1cb69-1f0e-4dc6-9326-851fc92b4658"
      },
      "execution_count": 8,
      "outputs": [
        {
          "output_type": "stream",
          "name": "stdout",
          "text": [
            "i  like orange\n"
          ]
        }
      ]
    },
    {
      "cell_type": "markdown",
      "source": [
        "6.  Write a code to create a list with numbers 1 to 5 and print it."
      ],
      "metadata": {
        "id": "UUCcImQOegDP"
      }
    },
    {
      "cell_type": "code",
      "source": [
        "my_list=[1,2,3,4,5]\n",
        "print(my_list)"
      ],
      "metadata": {
        "colab": {
          "base_uri": "https://localhost:8080/"
        },
        "id": "zO_l-0TdekDO",
        "outputId": "8f759f29-dd3a-494e-8461-2591814b58f2"
      },
      "execution_count": 9,
      "outputs": [
        {
          "output_type": "stream",
          "name": "stdout",
          "text": [
            "[1, 2, 3, 4, 5]\n"
          ]
        }
      ]
    },
    {
      "cell_type": "markdown",
      "source": [
        "7. Write a code to append the number 10 to the list [1, 2, 3, 4].\n"
      ],
      "metadata": {
        "id": "OngBC3uWfDnr"
      }
    },
    {
      "cell_type": "code",
      "source": [
        "my_list=[1,2,3,4]\n",
        "my_list.append(10)\n",
        "print(my_list)"
      ],
      "metadata": {
        "id": "Ik-MJnqSfIaI"
      },
      "execution_count": null,
      "outputs": []
    },
    {
      "cell_type": "markdown",
      "source": [
        "8. Write a code to remove the number 3 from the list [1, 2, 3, 4, 5]."
      ],
      "metadata": {
        "id": "LaYe4tZtfRzg"
      }
    },
    {
      "cell_type": "code",
      "source": [
        "my_list=[1,2,3,4,5]\n",
        "my_list.remove(3)\n",
        "print(my_list)"
      ],
      "metadata": {
        "colab": {
          "base_uri": "https://localhost:8080/"
        },
        "id": "nM9fFKQRff7V",
        "outputId": "e837ff3b-fff0-4272-bb64-e4204accf6a8"
      },
      "execution_count": 10,
      "outputs": [
        {
          "output_type": "stream",
          "name": "stdout",
          "text": [
            "[1, 2, 4, 5]\n"
          ]
        }
      ]
    },
    {
      "cell_type": "markdown",
      "source": [
        "9. Write a code to access the second element in the list ['a', 'b', 'c', 'd']."
      ],
      "metadata": {
        "id": "MAGxFdjufojC"
      }
    },
    {
      "cell_type": "code",
      "source": [
        "my_list=['a','b','c','d']\n",
        "print(my_list[1])"
      ],
      "metadata": {
        "colab": {
          "base_uri": "https://localhost:8080/"
        },
        "id": "yPpj3ZVJfuHp",
        "outputId": "95f40d8a-47f3-4059-8932-ba1287afddf8"
      },
      "execution_count": 11,
      "outputs": [
        {
          "output_type": "stream",
          "name": "stdout",
          "text": [
            "b\n"
          ]
        }
      ]
    },
    {
      "cell_type": "markdown",
      "source": [
        "10. Write a code to reverse the list [10, 20, 30, 40, 50]."
      ],
      "metadata": {
        "id": "RTRxeoIDf8xn"
      }
    },
    {
      "cell_type": "code",
      "source": [
        "my_list=[10, 20, 30, 40, 50]\n",
        "print(my_list[::-1])"
      ],
      "metadata": {
        "colab": {
          "base_uri": "https://localhost:8080/"
        },
        "id": "OKKWo7N_gBFQ",
        "outputId": "8a35f98e-8141-42d7-f9fa-0d8b0d28ab2f"
      },
      "execution_count": 13,
      "outputs": [
        {
          "output_type": "stream",
          "name": "stdout",
          "text": [
            "[50, 40, 30, 20, 10]\n"
          ]
        }
      ]
    },
    {
      "cell_type": "markdown",
      "source": [
        "11. Write a code to create a tuple with the elements 100, 200, 300 and print it."
      ],
      "metadata": {
        "id": "6IbV_BJ6gS-9"
      }
    },
    {
      "cell_type": "code",
      "source": [
        "my_tuple=( 100, 200, 300)\n",
        "print(my_tuple)"
      ],
      "metadata": {
        "colab": {
          "base_uri": "https://localhost:8080/"
        },
        "id": "WYlGYrjNgYup",
        "outputId": "4f7930f1-fce2-4ee9-ecbf-aa94d6f1bcbd"
      },
      "execution_count": 14,
      "outputs": [
        {
          "output_type": "stream",
          "name": "stdout",
          "text": [
            "(100, 200, 300)\n"
          ]
        }
      ]
    },
    {
      "cell_type": "markdown",
      "source": [
        "12. Write a code to access the second-to-last element of the tuple ('red', 'green', 'blue', 'yellow')."
      ],
      "metadata": {
        "id": "OKgdPy1UghMQ"
      }
    },
    {
      "cell_type": "code",
      "source": [
        "my_tuple=('red', 'green', 'blue', 'yellow')\n",
        "print(my_tuple[-2])"
      ],
      "metadata": {
        "colab": {
          "base_uri": "https://localhost:8080/"
        },
        "id": "ADTxV3GNgpyN",
        "outputId": "eafe1f55-96dc-4578-a875-31da75ec62c6"
      },
      "execution_count": 15,
      "outputs": [
        {
          "output_type": "stream",
          "name": "stdout",
          "text": [
            "blue\n"
          ]
        }
      ]
    },
    {
      "cell_type": "markdown",
      "source": [
        "13.  Write a code to find the minimum number in the tuple (10, 20, 5, 15)."
      ],
      "metadata": {
        "id": "F5cY_NtxgyKc"
      }
    },
    {
      "cell_type": "code",
      "source": [
        "my_tuple=(10, 20, 5, 15)\n",
        "print(min(my_tuple))"
      ],
      "metadata": {
        "colab": {
          "base_uri": "https://localhost:8080/"
        },
        "id": "fVmstEY_g25u",
        "outputId": "4fbc37f2-2e6c-4232-95d2-8b5eeb6017d6"
      },
      "execution_count": 16,
      "outputs": [
        {
          "output_type": "stream",
          "name": "stdout",
          "text": [
            "5\n"
          ]
        }
      ]
    },
    {
      "cell_type": "markdown",
      "source": [
        "14.  Write a code to find the index of the element \"cat\" in the tuple ('dog', 'cat', 'rabbit')."
      ],
      "metadata": {
        "id": "wNSC7DgXhHkM"
      }
    },
    {
      "cell_type": "code",
      "source": [
        "my_tuple=('dog', 'cat', 'rabbit')\n",
        "print(my_tuple.index(\"cat\"))\n"
      ],
      "metadata": {
        "colab": {
          "base_uri": "https://localhost:8080/"
        },
        "id": "0cS0h1adhOBO",
        "outputId": "7fde3af1-ab89-434e-fba0-06281a0f0b75"
      },
      "execution_count": 17,
      "outputs": [
        {
          "output_type": "stream",
          "name": "stdout",
          "text": [
            "1\n"
          ]
        }
      ]
    },
    {
      "cell_type": "markdown",
      "source": [
        "15. Write a code to create a tuple containing three different fruits and check if \"kiwi\" is in it."
      ],
      "metadata": {
        "id": "q4vWXzZ-ho9w"
      }
    },
    {
      "cell_type": "code",
      "source": [
        "my_tuple=(\"apple\",\"mango\",\"kiwi\")\n",
        "if my_tuple.count(\"kiwi\"):\n",
        "  print(\"yes\")\n",
        "else:\n",
        "  print(\"no\")\n"
      ],
      "metadata": {
        "colab": {
          "base_uri": "https://localhost:8080/"
        },
        "id": "85FVNzmthulD",
        "outputId": "78fcfb7c-12e4-4e3c-f6c1-9dc72309f4ed"
      },
      "execution_count": 21,
      "outputs": [
        {
          "output_type": "stream",
          "name": "stdout",
          "text": [
            "yes\n"
          ]
        }
      ]
    },
    {
      "cell_type": "markdown",
      "source": [
        "16. Write a code to create a set with the elements 'a', 'b', 'c' and print it."
      ],
      "metadata": {
        "id": "ozIuhPoXiXmH"
      }
    },
    {
      "cell_type": "code",
      "source": [
        "my_set={ 'a', 'b', 'c' }\n",
        "print(my_set)"
      ],
      "metadata": {
        "colab": {
          "base_uri": "https://localhost:8080/"
        },
        "id": "kfLMHz6KicP9",
        "outputId": "75198c64-d987-431f-e5ff-747eb37a6c47"
      },
      "execution_count": 22,
      "outputs": [
        {
          "output_type": "stream",
          "name": "stdout",
          "text": [
            "{'a', 'b', 'c'}\n"
          ]
        }
      ]
    },
    {
      "cell_type": "markdown",
      "source": [
        "17.  Write a code to clear all elements from the set {1, 2, 3, 4, 5}."
      ],
      "metadata": {
        "id": "1wadVPiril88"
      }
    },
    {
      "cell_type": "code",
      "source": [
        "my_set={1, 2, 3, 4, 5}\n",
        "my_set.clear()\n",
        "print(my_set)"
      ],
      "metadata": {
        "colab": {
          "base_uri": "https://localhost:8080/"
        },
        "id": "1-RZlcBViqPF",
        "outputId": "20e116a0-c65c-4c56-ab24-38984c96211b"
      },
      "execution_count": 23,
      "outputs": [
        {
          "output_type": "stream",
          "name": "stdout",
          "text": [
            "set()\n"
          ]
        }
      ]
    },
    {
      "cell_type": "markdown",
      "source": [
        "18. Write a code to remove the element 4 from the set {1, 2, 3, 4}."
      ],
      "metadata": {
        "id": "VsCtV78wizM5"
      }
    },
    {
      "cell_type": "code",
      "source": [
        "my_set={1, 2, 3, 4}\n",
        "my_set.remove(4)\n",
        "print(my_set)"
      ],
      "metadata": {
        "colab": {
          "base_uri": "https://localhost:8080/"
        },
        "id": "3d2WhOaWi4su",
        "outputId": "54b12ca4-f9d8-438a-8a33-3fe4cb834f90"
      },
      "execution_count": 24,
      "outputs": [
        {
          "output_type": "stream",
          "name": "stdout",
          "text": [
            "{1, 2, 3}\n"
          ]
        }
      ]
    },
    {
      "cell_type": "markdown",
      "source": [
        "19. Write a code to find the union of two sets {1, 2, 3} and {3, 4, 5}."
      ],
      "metadata": {
        "id": "RiwPHzApi_Y2"
      }
    },
    {
      "cell_type": "code",
      "source": [
        "my_set1={1, 2, 3}\n",
        "my_set2={3, 4, 5}\n",
        "print(my_set1.union(my_set2))"
      ],
      "metadata": {
        "colab": {
          "base_uri": "https://localhost:8080/"
        },
        "id": "1zNuaCDDjEy-",
        "outputId": "fa3f09db-3c0c-47d6-9a19-5c1d0705feba"
      },
      "execution_count": 25,
      "outputs": [
        {
          "output_type": "stream",
          "name": "stdout",
          "text": [
            "{1, 2, 3, 4, 5}\n"
          ]
        }
      ]
    },
    {
      "cell_type": "markdown",
      "source": [
        "20. Write a code to find the intersection of two sets {1, 2, 3} and {2, 3, 4}."
      ],
      "metadata": {
        "id": "2JLsMKc9jOnW"
      }
    },
    {
      "cell_type": "code",
      "source": [
        "my_set1={1, 2, 3}\n",
        "my_set2={2, 3, 4}\n",
        "print(my_set1.intersection(my_set2))"
      ],
      "metadata": {
        "colab": {
          "base_uri": "https://localhost:8080/"
        },
        "id": "te9zE9IvjSxY",
        "outputId": "fa8b22fd-664e-4bbc-8ec0-ffe04ca2771c"
      },
      "execution_count": 26,
      "outputs": [
        {
          "output_type": "stream",
          "name": "stdout",
          "text": [
            "{2, 3}\n"
          ]
        }
      ]
    },
    {
      "cell_type": "markdown",
      "source": [
        "21. Write a code to create a dictionary with the keys \"name\", \"age\", and \"city\", and print it."
      ],
      "metadata": {
        "id": "LdmUFi2zjYxr"
      }
    },
    {
      "cell_type": "code",
      "source": [
        "my_dict={\"names\":\"Harnakshi\",\"age\":19,\"city\":\"Moga\"}\n",
        "print(my_dict)"
      ],
      "metadata": {
        "colab": {
          "base_uri": "https://localhost:8080/"
        },
        "id": "Fhr_EG7rjdwH",
        "outputId": "93d0e58b-6495-492e-c2e9-73e476897a95"
      },
      "execution_count": 28,
      "outputs": [
        {
          "output_type": "stream",
          "name": "stdout",
          "text": [
            "{'names': 'Harnakshi', 'age': 19, 'city': 'Moga'}\n"
          ]
        }
      ]
    },
    {
      "cell_type": "markdown",
      "source": [
        "22. Write a code to add a new key-value pair \"country\": \"USA\" to the dictionary {'name': 'John', 'age': 25}."
      ],
      "metadata": {
        "id": "s_tlPMkmj1BI"
      }
    },
    {
      "cell_type": "code",
      "source": [
        "my_dict={\"name\":\"john\",\"age\":25}\n",
        "my_dict[\"country\"]=\"USA\"\n",
        "print(my_dict)"
      ],
      "metadata": {
        "colab": {
          "base_uri": "https://localhost:8080/"
        },
        "id": "VrQhzxunj7tW",
        "outputId": "66d40457-ea41-4f35-f49d-47b05961a17f"
      },
      "execution_count": 30,
      "outputs": [
        {
          "output_type": "stream",
          "name": "stdout",
          "text": [
            "{'name': 'john', 'age': 25, 'country': 'USA'}\n"
          ]
        }
      ]
    },
    {
      "cell_type": "markdown",
      "source": [
        "23. Write a code to access the value associated with the key \"name\" in the dictionary {'name': 'Alice', 'age': 30}."
      ],
      "metadata": {
        "id": "k4GitEl_kPb7"
      }
    },
    {
      "cell_type": "code",
      "source": [
        "my_dict={\"name\":\"Alice\",\"age\":30}\n",
        "my_dict[\"name\"]"
      ],
      "metadata": {
        "colab": {
          "base_uri": "https://localhost:8080/",
          "height": 36
        },
        "id": "zT8f5RuEkWYa",
        "outputId": "e2807c72-3f6b-4af3-d007-2feea0f37a4a"
      },
      "execution_count": 31,
      "outputs": [
        {
          "output_type": "execute_result",
          "data": {
            "text/plain": [
              "'Alice'"
            ],
            "application/vnd.google.colaboratory.intrinsic+json": {
              "type": "string"
            }
          },
          "metadata": {},
          "execution_count": 31
        }
      ]
    },
    {
      "cell_type": "markdown",
      "source": [
        "24. Write a code to remove the key \"age\" from the dictionary {'name': 'Bob', 'age': 22, 'city': 'New York'}."
      ],
      "metadata": {
        "id": "9e8qOouUkkwE"
      }
    },
    {
      "cell_type": "code",
      "source": [
        "my_dict={\"name\":\"Bob\",\"age\":22,\"city\":\"New York\"}\n",
        "my_dict.pop(\"age\")\n",
        "print(my_dict)"
      ],
      "metadata": {
        "colab": {
          "base_uri": "https://localhost:8080/"
        },
        "id": "vOTKrUl8kp5s",
        "outputId": "3d0cbe40-d7ed-4b55-a95c-067a54cf9e93"
      },
      "execution_count": 32,
      "outputs": [
        {
          "output_type": "stream",
          "name": "stdout",
          "text": [
            "{'name': 'Bob', 'city': 'New York'}\n"
          ]
        }
      ]
    },
    {
      "cell_type": "markdown",
      "source": [
        "25.  Write a code to check if the key \"city\" exists in the dictionary {'name': 'Alice', 'city': 'Paris'}."
      ],
      "metadata": {
        "id": "iceKXLeMk3hG"
      }
    },
    {
      "cell_type": "code",
      "source": [
        "my_dict={\"name\":\"Alice\",\"city\":\"paris\"}\n",
        "if \"city\" in my_dict:\n",
        "  print(\"yes\")\n",
        "else:\n",
        "  print(\"no\")"
      ],
      "metadata": {
        "colab": {
          "base_uri": "https://localhost:8080/"
        },
        "id": "5xlUaRoHk95-",
        "outputId": "2ca00117-5c81-4296-95e5-d2c9132e97ef"
      },
      "execution_count": 36,
      "outputs": [
        {
          "output_type": "stream",
          "name": "stdout",
          "text": [
            "yes\n"
          ]
        }
      ]
    },
    {
      "cell_type": "markdown",
      "source": [
        "26. Write a code to create a list, a tuple, and a dictionary, and print them all."
      ],
      "metadata": {
        "id": "cadjNIpclxev"
      }
    },
    {
      "cell_type": "code",
      "source": [
        "my_list = [1, 2, 3, 4, 5]\n",
        "my_tuple = ('apple', 'banana', 'cherry')\n",
        "my_dict = {'name': 'Alice', 'age': 30, 'city': 'Paris'}\n",
        "print(\"List:\", my_list)\n",
        "print(\"Tuple:\", my_tuple)\n",
        "print(\"Dictionary:\", my_dict)\n"
      ],
      "metadata": {
        "colab": {
          "base_uri": "https://localhost:8080/"
        },
        "id": "AfcYzB4yl2ir",
        "outputId": "82dbcd70-b5fc-4ef1-fe77-fbbcf174f944"
      },
      "execution_count": 37,
      "outputs": [
        {
          "output_type": "stream",
          "name": "stdout",
          "text": [
            "List: [1, 2, 3, 4, 5]\n",
            "Tuple: ('apple', 'banana', 'cherry')\n",
            "Dictionary: {'name': 'Alice', 'age': 30, 'city': 'Paris'}\n"
          ]
        }
      ]
    },
    {
      "cell_type": "markdown",
      "source": [
        "27.  Write a code to create a list of 5 random numbers between 1 and 100, sort it in ascending order, and print the result."
      ],
      "metadata": {
        "id": "srVSUWLumL4F"
      }
    },
    {
      "cell_type": "code",
      "source": [
        "import random\n",
        "random_numbers = [random.randint(1, 100) for _ in range(5)]\n",
        "random_numbers.sort()\n",
        "print(\"Sorted list of random numbers:\", random_numbers)"
      ],
      "metadata": {
        "colab": {
          "base_uri": "https://localhost:8080/"
        },
        "id": "aESjInIQmY2M",
        "outputId": "47c7b8b0-f588-400f-ce2b-2a754676cbe1"
      },
      "execution_count": 41,
      "outputs": [
        {
          "output_type": "stream",
          "name": "stdout",
          "text": [
            "Sorted list of random numbers: [20, 43, 50, 87, 90]\n"
          ]
        }
      ]
    },
    {
      "cell_type": "markdown",
      "source": [
        "28. Write a code to create a list with strings and print the element at the third index."
      ],
      "metadata": {
        "id": "smxE_GEBnuw1"
      }
    },
    {
      "cell_type": "code",
      "source": [
        "fruits = ['apple', 'banana', 'cherry', 'date', 'elderberry']\n",
        "print(\"Element at index 3:\", fruits[3])"
      ],
      "metadata": {
        "colab": {
          "base_uri": "https://localhost:8080/"
        },
        "id": "iSBJ8FZ9n2ah",
        "outputId": "b226fa6f-0884-4350-f37f-e242ec68c64d"
      },
      "execution_count": 42,
      "outputs": [
        {
          "output_type": "stream",
          "name": "stdout",
          "text": [
            "Element at index 3: date\n"
          ]
        }
      ]
    },
    {
      "cell_type": "markdown",
      "source": [
        "29. Write a code to combine two dictionaries into one and print the result."
      ],
      "metadata": {
        "id": "ra8-WlbIoDGr"
      }
    },
    {
      "cell_type": "code",
      "source": [
        "dict1 = {'name': 'Alice', 'age': 30}\n",
        "dict2 = {'city': 'Paris', 'country': 'France'}\n",
        "combined_dict = {**dict1, **dict2}\n",
        "print(\"Combined dictionary:\", combined_dict)"
      ],
      "metadata": {
        "id": "NRojc4CeoIbx"
      },
      "execution_count": null,
      "outputs": []
    },
    {
      "cell_type": "markdown",
      "source": [
        "30. Write a code to convert a list of strings into a set."
      ],
      "metadata": {
        "id": "eIJFtAgRodaZ"
      }
    },
    {
      "cell_type": "code",
      "source": [
        "string_list = ['apple', 'banana', 'cherry', 'apple', 'banana']\n",
        "string_set = set(string_list)\n",
        "print(\"Set of strings:\", string_set)"
      ],
      "metadata": {
        "colab": {
          "base_uri": "https://localhost:8080/"
        },
        "id": "x33P-AKvoiPU",
        "outputId": "9c89fc54-0612-40fa-8d49-41575792e49d"
      },
      "execution_count": 43,
      "outputs": [
        {
          "output_type": "stream",
          "name": "stdout",
          "text": [
            "Set of strings: {'banana', 'cherry', 'apple'}\n"
          ]
        }
      ]
    }
  ]
}