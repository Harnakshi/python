{
  "nbformat": 4,
  "nbformat_minor": 0,
  "metadata": {
    "colab": {
      "provenance": []
    },
    "kernelspec": {
      "name": "python3",
      "display_name": "Python 3"
    },
    "language_info": {
      "name": "python"
    }
  },
  "cells": [
    {
      "cell_type": "markdown",
      "source": [
        "**exceptional handling, logging and    \n",
        "memory management Questions**"
      ],
      "metadata": {
        "id": "Q6kVFZPNOeWD"
      }
    },
    {
      "cell_type": "markdown",
      "source": [
        " 1. What is the difference between interpreted and compiled languages ?\n",
        "\n",
        "      Compiled language: Source code is translated all at once into machine code (binary) by a compiler before execution.\n",
        "\n",
        "      Execution: The compiled program (executable file) runs directly on the computer without needing the source code or compiler again.\n",
        "\n",
        "      Examples: C, C++, Rust, Go\n",
        "\n",
        "      \n",
        "      Interpreted language: Source code is translated line by line at runtime by an interpreter.\n",
        "\n",
        "      Execution: No separate executable is produced; the interpreter reads the code and executes directly.\n",
        "\n",
        "      Examples: Python, JavaScript, Ruby, PHP.\n",
        "\n"
      ],
      "metadata": {
        "id": "4fse1_5JOlkd"
      }
    },
    {
      "cell_type": "markdown",
      "source": [
        "2. What is exception handling in Python ?\n",
        "\n",
        "      Exception handling in Python is a way to manage errors (exceptions) in a program so that it doesn’t crash when something goes wrong.Without handling, errors stop the program immediately.With handling, you can catch the error and decide what to do (show a message, retry, skip, etc.)"
      ],
      "metadata": {
        "id": "RrGbcuvtQSEt"
      }
    },
    {
      "cell_type": "markdown",
      "source": [
        "3. What is the purpose of the finally block in exception handling ?\n",
        "\n",
        "    The finally block in Python is used to define code that will always execute, no matter what happens in the try/except blocks.\n",
        "    \n",
        "    The code inside finally runs:\n",
        "    \n",
        "    If no error occurs.\n",
        "    \n",
        "    If an error occurs and is handled.\n"
      ],
      "metadata": {
        "id": "9LJrCMG6Q8S9"
      }
    },
    {
      "cell_type": "markdown",
      "source": [
        "4. What is logging in Python ?\n",
        "\n",
        "    Logging in Python is the process of recording messages (called log messages) about what a program is doing while it runs.\n",
        "\n",
        "    Instead of just using print() to display messages, logging provides a structured and flexible way to:\n",
        "\n",
        "    Track events that happen during execution\n",
        "\n",
        "    Record errors, warnings, and important information\n",
        "\n",
        "    Debug and monitor applications more effectively"
      ],
      "metadata": {
        "id": "ugTjZfKTSAf7"
      }
    },
    {
      "cell_type": "markdown",
      "source": [
        "5.  What is the significance of the __del__ method in Python ?\n",
        "\n",
        "    In Python, the __del__ method is known as the destructor method.\n",
        "\n",
        "    Significance of __del__:\n",
        "\n",
        "    Automatic Cleanup\n",
        "\n",
        "    The __del__ method is called automatically when an object is about to be destroyed (i.e., when there are no more references to it).\n",
        "  \n",
        "    Destructor Equivalent\n",
        "\n",
        "    Similar to destructors in languages like C++.\n",
        "\n",
        "    But in Python, destruction is managed by the garbage collector\n"
      ],
      "metadata": {
        "id": "pEQ9BHcMST4x"
      }
    },
    {
      "cell_type": "markdown",
      "source": [
        "6. What is the difference between import and from ... import in Python ?\n",
        "\n",
        "      1. import\n",
        "\n",
        "          Imports the entire module.\n",
        "\n",
        "         You need to use the module name (namespace) to access its functions/variables.\n",
        "\n",
        "      2. from ... import\n",
        "\n",
        "          Imports specific functions, classes, or variables directly from a module.\n",
        "\n",
        "          You don’t need the module name prefix."
      ],
      "metadata": {
        "id": "jRu_YNmnS-Zo"
      }
    },
    {
      "cell_type": "markdown",
      "source": [
        "7.  How can you handle multiple exceptions in Python ?\n",
        "\n",
        "    1. Using Multiple except Blocks\n",
        "\n",
        "       You can write separate handlers for different exceptions.\n",
        "\n",
        "    2. Handling Multiple Exceptions in One Block\n",
        "\n",
        "       You can handle multiple exceptions with a single except block by grouping them in a tuple."
      ],
      "metadata": {
        "id": "WoLlKg91Td2s"
      }
    },
    {
      "cell_type": "markdown",
      "source": [
        "8. What is the purpose of the with statement when handling files in Python ?\n",
        "\n",
        "    In Python, the with statement is mainly used when working with files (and other resources like databases, network connections, etc.) to ensure proper resource management."
      ],
      "metadata": {
        "id": "80CtjcBxT1C8"
      }
    },
    {
      "cell_type": "markdown",
      "source": [
        "9.  What is the difference between multithreading and multiprocessing ?\n",
        "\n",
        "    1. Multithreading\n",
        "\n",
        "        Definition: Running multiple threads (smaller units of a process) within the same process.\n",
        "\n",
        "        Threads share the same memory space → they can easily communicate but may cause conflicts (need synchronization).\n",
        "\n",
        "    2. Multiprocessing\n",
        "\n",
        "        Definition: Running multiple processes simultaneously, each with its own memory space."
      ],
      "metadata": {
        "id": "w-wDBBP-UoJd"
      }
    },
    {
      "cell_type": "markdown",
      "source": [
        "10.  What are the advantages of using logging in a program ?\n",
        "\n",
        "     1. print() is fine for quick debugging, but not for professional applications\n",
        "\n",
        "     2.Logging records what the program is doing at different points.\n",
        "\n",
        "     3.When something goes wrong, logs help you trace back what happened.\n",
        "\n",
        "      "
      ],
      "metadata": {
        "id": "bh21IyxlVDEq"
      }
    },
    {
      "cell_type": "markdown",
      "source": [
        "11.  What is memory management in Python ?\n",
        "\n",
        "      Memory management in Python refers to how Python allocates and frees memory for objects while a program runs.It ensures that programs use memory efficiently and that unused memory is released automatically."
      ],
      "metadata": {
        "id": "TCWduaa9VjQu"
      }
    },
    {
      "cell_type": "markdown",
      "source": [
        "12.  What are the basic steps involved in exception handling in Python ?\n",
        "\n",
        "      1. Place the code that might cause an error inside a try block.\n",
        "\n",
        "      2. Python “tries” to run this code.\n",
        "\n",
        "      3. If an exception occurs, Python jumps to the matching except block.\n",
        "\n",
        "      4. Each except block can handle a different type of error."
      ],
      "metadata": {
        "id": "hdIT_YTpV0uo"
      }
    },
    {
      "cell_type": "markdown",
      "source": [
        "13.  Why is memory management important in Python ?\n",
        "\n",
        "     1. Efficient Use of Resources\n",
        "\n",
        "        Every program needs memory (RAM) to store variables, objects, and data structures.\n",
        "\n",
        "        Good memory management ensures Python programs use memory efficiently without wasting it\n",
        "\n",
        "     2. Improves Performance\n",
        "\n",
        "        By freeing unused memory, Python ensures that active code runs faster.\n",
        "\n",
        "        Without it, programs might slow down or even run out of memory."
      ],
      "metadata": {
        "id": "wrBIUAKqXECH"
      }
    },
    {
      "cell_type": "markdown",
      "source": [
        "14.  What is the role of try and except in exception handling ?\n",
        "\n",
        "      1. try block\n",
        "\n",
        "          The try block contains the risky code that might raise an exception.\n",
        "\n",
        "          Python “tries” to run the code inside it.\n",
        "\n",
        "          If no error occurs → code runs normally.\n",
        "\n",
        "          If an error occurs → Python immediately jumps to the corresponding except block.\n",
        "\n",
        "      2. except block\n",
        "\n",
        "          The except block contains the error-handling code.\n",
        "\n",
        "          It runs only if an exception occurs in the try block."
      ],
      "metadata": {
        "id": "FB2ldjCkXk5T"
      }
    },
    {
      "cell_type": "markdown",
      "source": [
        "15.  How does Python's garbage collection system work ?\n",
        "\n",
        "      Every object in Python has a reference count → the number of variables pointing to it.\n",
        "\n",
        "      When the reference count drops to 0, the object becomes unreachable and is immediately destroyed.\n",
        "\n",
        "      Reference counting alone fails when objects reference each other"
      ],
      "metadata": {
        "id": "M6AbMJcuYMuA"
      }
    },
    {
      "cell_type": "markdown",
      "source": [
        "16. What is the purpose of the else block in exception handling ?\n",
        "\n",
        "      \n",
        "      The else block is used to write code that should run only if no exception occurs in the try block.It helps separate error-handling code (except) from the normal code that should execute when everything goes fine."
      ],
      "metadata": {
        "id": "2OUUGq9oYvQR"
      }
    },
    {
      "cell_type": "markdown",
      "source": [
        "17.  What are the common logging levels in Python ?\n",
        "\n",
        "     1. DEBUG (10)\n",
        "\n",
        "        Detailed information, mostly useful for developers.\n",
        "\n",
        "        Used for diagnosing problems during development\n",
        "\n",
        "     2. INFO (20)\n",
        "\n",
        "        Confirms that things are working as expected.\n",
        "\n",
        "        General events in the program flow."
      ],
      "metadata": {
        "id": "NLP8IdY_Y_0c"
      }
    },
    {
      "cell_type": "markdown",
      "source": [
        "18.  What is the difference between os.fork() and multiprocessing in Python ?\n",
        "\n",
        "      1. os.fork()\n",
        "\n",
        "          Definition: A low-level system call (available only on Unix/Linux/macOS, not on Windows).\n",
        "\n",
        "\n",
        "      2. multiprocessing module\n",
        "\n",
        "          Definition: A high-level Python module for creating and managing processes."
      ],
      "metadata": {
        "id": "TAolq9r5ZaNb"
      }
    },
    {
      "cell_type": "markdown",
      "source": [
        "19.  What is the importance of closing a file in Python ?\n",
        "\n",
        "      When you open a file using open(), Python allocates system resources (like memory and file handles) to work with that file. Closing the file using close() (or automatically with a with statement) is very important for several reasons:\n",
        "\n",
        "      1. Releases System Resources\n",
        "\n",
        "      2. Ensures Data is Written (Flushing Buffers)\n",
        "\n",
        "      3. Prevents File Corruption\n",
        "       \n",
        "      4. Improves Portability & Stability"
      ],
      "metadata": {
        "id": "NVMsUV3yZyCJ"
      }
    },
    {
      "cell_type": "markdown",
      "source": [
        "20.  What is the difference between file.read() and file.readline() in Python ?\n",
        "\n",
        "      1. file.read([size])\n",
        "\n",
        "         Reads the entire file into a single string (if no size is given).\n",
        "\n",
        "         If you pass a size argument → it reads that many characters/bytes.\n",
        "\n",
        "\n",
        "     2. file.readline([size])\n",
        "\n",
        "        Reads only one line from the file.\n",
        "\n",
        "        If you call it multiple times, it will read line by line.\n",
        "\n",
        "        If you pass size, it will read up to size characters of that line.\n",
        "\n"
      ],
      "metadata": {
        "id": "ELYAoTn7aNmS"
      }
    },
    {
      "cell_type": "markdown",
      "source": [
        "21.  What is the logging module in Python used for ?\n",
        "       \n",
        "       The logging module in Python is used to track events that happen when a program runs. It’s a built-in way to record messages (like errors, warnings, or status updates) instead of just using print() statements."
      ],
      "metadata": {
        "id": "fH4FvfkgaOCZ"
      }
    },
    {
      "cell_type": "markdown",
      "source": [
        "22.  What is the os module in Python used for in file handling ?\n",
        "\n",
        "      The os module in Python provides a way to interact with the operating system, especially for tasks like file and directory handling.It lets you perform operations such as creating, deleting, renaming, and navigating files and folders — things you can normally do from the OS (like Windows Explorer, Linux terminal, etc.)."
      ],
      "metadata": {
        "id": "tVV6IBv8bG1f"
      }
    },
    {
      "cell_type": "markdown",
      "source": [
        "23.  What are the challenges associated with memory management in Python ?\n",
        "\n",
        "      1. Reference Cycles\n",
        "\n",
        "          Python uses reference counting + garbage collection.\n",
        "\n",
        "          If two or more objects reference each other (circular reference), their reference count never drops to zero.\n",
        "\n",
        "\n",
        "  "
      ],
      "metadata": {
        "id": "Gj91JpvgbXbq"
      }
    },
    {
      "cell_type": "markdown",
      "source": [
        "24.  How do you raise an exception manually in Python ?\n",
        "\n",
        "      In Python, you can raise an exception manually using the raise keyword.\n",
        "      \n",
        "      raise ExceptionType(\"Error message\")\n"
      ],
      "metadata": {
        "id": "7wAZ00-tb1BK"
      }
    },
    {
      "cell_type": "markdown",
      "source": [
        "25.  Why is it important to use multithreading in certain applications ?\n",
        "\n",
        "        In applications with a user interface (UI), multithreading keeps the UI responsive while background tasks run.\n",
        "\n",
        "        Many applications spend time waiting for input/output (I/O) operations (like reading files, network requests, or database queries).\n",
        "\n",
        "        Multithreading allows other tasks to run while one thread is waiting."
      ],
      "metadata": {
        "id": "2Tnh3_mBcNBo"
      }
    },
    {
      "cell_type": "markdown",
      "source": [
        "**Practical** **Questions**"
      ],
      "metadata": {
        "id": "YGi98MVVUq5L"
      }
    },
    {
      "cell_type": "markdown",
      "source": [
        "1. How can you open a file for writing in Python and write a string to it ?"
      ],
      "metadata": {
        "id": "-eTuzVv0UzAU"
      }
    },
    {
      "cell_type": "code",
      "source": [
        "\n",
        "file = open(\"example.txt\", \"w\")\n",
        "file.write(\"Hello, this is a test string.\")\n",
        "file.close()\n"
      ],
      "metadata": {
        "id": "KmFA2qOpU4YN"
      },
      "execution_count": 4,
      "outputs": []
    },
    {
      "cell_type": "markdown",
      "source": [
        "2.  Write a Python program to read the contents of a file and print each line ."
      ],
      "metadata": {
        "id": "yIgN9P13VO7r"
      }
    },
    {
      "cell_type": "code",
      "source": [
        "\n",
        "with open(\"example.txt\", \"r\") as file:\n",
        "    for line in file:\n",
        "        print(line.strip())\n"
      ],
      "metadata": {
        "colab": {
          "base_uri": "https://localhost:8080/"
        },
        "id": "85Y0-pedVWyt",
        "outputId": "a30812b2-0390-4f28-e407-64e78161166e"
      },
      "execution_count": 3,
      "outputs": [
        {
          "output_type": "stream",
          "name": "stdout",
          "text": [
            "Hello, this is a test string.\n"
          ]
        }
      ]
    },
    {
      "cell_type": "markdown",
      "source": [
        "3.  How would you handle a case where the file doesn't exist while trying to open it for reading ?"
      ],
      "metadata": {
        "id": "iwwpfjT0VpJJ"
      }
    },
    {
      "cell_type": "code",
      "source": [
        "filename = \"example.txt\"\n",
        "try:\n",
        "    with open(filename, \"r\") as file:\n",
        "        for line in file:\n",
        "            print(line.strip())\n",
        "except FileNotFoundError:\n",
        "    print(f\"Error: The file '{filename}' does not exist.\")\n"
      ],
      "metadata": {
        "colab": {
          "base_uri": "https://localhost:8080/"
        },
        "id": "Lqk4PuEvVutS",
        "outputId": "f86bed85-97ed-44e9-cdf3-5fd3c493116a"
      },
      "execution_count": 5,
      "outputs": [
        {
          "output_type": "stream",
          "name": "stdout",
          "text": [
            "Hello, this is a test string.\n"
          ]
        }
      ]
    },
    {
      "cell_type": "markdown",
      "source": [
        "4.  Write a Python script that reads from one file and writes its content to another file ."
      ],
      "metadata": {
        "id": "pcnUw5sEV2DZ"
      }
    },
    {
      "cell_type": "code",
      "source": [
        "\n",
        "source_file = \"source.txt\"\n",
        "destination_file = \"destination.txt\"\n",
        "\n",
        "try:\n",
        "    with open(source_file, \"r\") as src:\n",
        "      with open(destination_file, \"w\") as dest:\n",
        "\n",
        "            for line in src:\n",
        "                dest.write(line)\n",
        "\n",
        "    print(f\"Contents of '{source_file}' copied to '{destination_file}' successfully.\")\n",
        "\n",
        "except FileNotFoundError:\n",
        "    print(f\"Error: The file '{source_file}' does not exist.\")\n"
      ],
      "metadata": {
        "collapsed": true,
        "id": "F0QLUKpbV54t"
      },
      "execution_count": null,
      "outputs": []
    },
    {
      "cell_type": "markdown",
      "source": [
        "5. How would you catch and handle division by zero error in Python ?"
      ],
      "metadata": {
        "id": "TmrPA4OAWQa5"
      }
    },
    {
      "cell_type": "code",
      "source": [
        "try:\n",
        "    num = 10\n",
        "    denom = 0\n",
        "    result = num / denom\n",
        "    print(\"Result:\", result)\n",
        "except ZeroDivisionError:\n",
        "    print(\"Error: Division by zero is not allowed.\")\n"
      ],
      "metadata": {
        "colab": {
          "base_uri": "https://localhost:8080/"
        },
        "id": "WBSNwu_OWWmE",
        "outputId": "6d8670a2-f2b4-4f64-ce44-734ade30074b"
      },
      "execution_count": 8,
      "outputs": [
        {
          "output_type": "stream",
          "name": "stdout",
          "text": [
            "Error: Division by zero is not allowed.\n"
          ]
        }
      ]
    },
    {
      "cell_type": "markdown",
      "source": [
        "6.  Write a Python program that logs an error message to a log file when a division by zero exception occurs."
      ],
      "metadata": {
        "id": "DLCujpaZWeX3"
      }
    },
    {
      "cell_type": "code",
      "source": [
        "import logging\n",
        "\n",
        "# Configure logging\n",
        "logging.basicConfig(\n",
        "    filename='error_log.txt',\n",
        "    level=logging.ERROR,\n",
        "    format='%(asctime)s - %(levelname)s - %(message)s'\n",
        ")\n",
        "\n",
        "def divide(a, b):\n",
        "    try:\n",
        "        result = a / b\n",
        "        print(f\"Result: {result}\")\n",
        "    except ZeroDivisionError as e:\n",
        "        logging.error(\"Attempted to divide by zero\", exc_info=True)\n",
        "        print(\"Error: Cannot divide by zero.\")\n",
        "\n",
        "# Example usage\n",
        "divide(10, 0)\n"
      ],
      "metadata": {
        "colab": {
          "base_uri": "https://localhost:8080/"
        },
        "id": "ZxWxfajUW7jK",
        "outputId": "519c5cdf-619e-4078-cb37-6354ead5c78a"
      },
      "execution_count": 9,
      "outputs": [
        {
          "output_type": "stream",
          "name": "stderr",
          "text": [
            "ERROR:root:Attempted to divide by zero\n",
            "Traceback (most recent call last):\n",
            "  File \"/tmp/ipython-input-92884245.py\", line 12, in divide\n",
            "    result = a / b\n",
            "             ~~^~~\n",
            "ZeroDivisionError: division by zero\n"
          ]
        },
        {
          "output_type": "stream",
          "name": "stdout",
          "text": [
            "Error: Cannot divide by zero.\n"
          ]
        }
      ]
    },
    {
      "cell_type": "markdown",
      "source": [
        "7.  How do you log information at different levels (INFO, ERROR, WARNING) in Python using the logging module ?"
      ],
      "metadata": {
        "id": "TjI2g000WdoT"
      }
    },
    {
      "cell_type": "code",
      "source": [
        "import logging\n",
        "\n",
        "# Configure logging\n",
        "logging.basicConfig(\n",
        "    filename='app.log',\n",
        "    level=logging.DEBUG,  # Capture all levels from DEBUG and up\n",
        "    format='%(asctime)s - %(levelname)s - %(message)s'\n",
        ")\n",
        "\n",
        "# Log messages at different levels\n",
        "logging.debug(\"This is a debug message.\")\n",
        "logging.info(\"This is an info message.\")\n",
        "logging.warning(\"This is a warning message.\")\n",
        "logging.error(\"This is an error message.\")\n",
        "logging.critical(\"This is a critical message.\")\n"
      ],
      "metadata": {
        "colab": {
          "base_uri": "https://localhost:8080/"
        },
        "id": "3AChGf2cXL_4",
        "outputId": "5fda9e69-9d12-4ce3-94a9-b7d312f79b50"
      },
      "execution_count": 10,
      "outputs": [
        {
          "output_type": "stream",
          "name": "stderr",
          "text": [
            "WARNING:root:This is a warning message.\n",
            "ERROR:root:This is an error message.\n",
            "CRITICAL:root:This is a critical message.\n"
          ]
        }
      ]
    },
    {
      "cell_type": "markdown",
      "source": [
        "8. Write a program to handle a file opening error using exception handling ."
      ],
      "metadata": {
        "id": "arnFOMo3XpRV"
      }
    },
    {
      "cell_type": "code",
      "source": [
        "filename = \"data.txt\"   # Change this to a file that may not exist\n",
        "\n",
        "try:\n",
        "    with open(filename, \"r\") as file:\n",
        "        content = file.read()\n",
        "        print(content)\n",
        "except FileNotFoundError:\n",
        "    print(f\"Error: The file '{filename}' was not found.\")\n",
        "except PermissionError:\n",
        "    print(f\"Error: You don’t have permission to open '{filename}'.\")\n",
        "except Exception as e:\n",
        "    print(f\"An unexpected error occurred: {e}\")\n",
        "\n",
        "\n"
      ],
      "metadata": {
        "id": "u78pDTatXwiK"
      },
      "execution_count": null,
      "outputs": []
    },
    {
      "cell_type": "markdown",
      "source": [
        "9. How can you read a file line by line and store its content in a list in Python ?"
      ],
      "metadata": {
        "id": "md4QgYJlXpKc"
      }
    },
    {
      "cell_type": "code",
      "source": [
        "# Open the file in read mode\n",
        "with open(\"example.txt\", \"r\") as file:\n",
        "    lines = file.readlines()\n",
        "\n",
        "# Strip newline characters\n",
        "lines = [line.strip() for line in lines]\n",
        "\n",
        "print(lines)\n",
        "\n",
        "\n"
      ],
      "metadata": {
        "colab": {
          "base_uri": "https://localhost:8080/"
        },
        "id": "rpj-YXcrYIQ8",
        "outputId": "62649094-2b49-41e7-ef87-a570263f904e"
      },
      "execution_count": 14,
      "outputs": [
        {
          "output_type": "stream",
          "name": "stdout",
          "text": [
            "['Hello, this is a test string.']\n"
          ]
        }
      ]
    },
    {
      "cell_type": "markdown",
      "source": [
        "10.  How can you append data to an existing file in Python ?"
      ],
      "metadata": {
        "id": "Rvvq_UZHYmuT"
      }
    },
    {
      "cell_type": "code",
      "source": [
        "# Open file in append mode\n",
        "with open(\"example.txt\", \"a\") as file:\n",
        "    file.write(\"\\nThis line is added at the end of the file.\")\n"
      ],
      "metadata": {
        "id": "Ra7hKhHeYuId"
      },
      "execution_count": 18,
      "outputs": []
    },
    {
      "cell_type": "markdown",
      "source": [
        "11.  Write a Python program that uses a try-except block to handle an error when attempting to access a\n",
        "dictionary key that doesn't exist"
      ],
      "metadata": {
        "id": "8NKIWRfyYzwV"
      }
    },
    {
      "cell_type": "code",
      "source": [
        "\n",
        "student = {\n",
        "    \"name\": \"Alice\",\n",
        "    \"age\": 21,\n",
        "    \"course\": \"Computer Science\"\n",
        "}\n",
        "\n",
        "try:\n",
        "\n",
        "    grade = student[\"grade\"]\n",
        "    print(\"Grade:\", grade)\n",
        "except KeyError:\n",
        "    print(\"Error: The key 'grade' does not exist in the dictionary.\")\n"
      ],
      "metadata": {
        "id": "35fO07S5Y6kD"
      },
      "execution_count": null,
      "outputs": []
    },
    {
      "cell_type": "markdown",
      "source": [
        "12.  Write a program that demonstrates using multiple except blocks to handle different types of exceptions."
      ],
      "metadata": {
        "id": "fXwqwbkgZTio"
      }
    },
    {
      "cell_type": "code",
      "source": [
        "def process_input():\n",
        "    try:\n",
        "        # Simulate user input\n",
        "        num = int(input(\"Enter a number: \"))\n",
        "        result = 10 / num\n",
        "        print(f\"Result: {result}\")\n",
        "\n",
        "        # Simulate file access\n",
        "        with open(\"example.txt\", \"r\") as file:\n",
        "            content = file.read()\n",
        "            print(\"File content:\", content)\n",
        "\n",
        "    except ValueError:\n",
        "        print(\"Error: Invalid input. Please enter a valid integer.\")\n",
        "    except ZeroDivisionError:\n",
        "        print(\"Error: Division by zero is not allowed.\")\n",
        "    except FileNotFoundError:\n",
        "        print(\"Error: The file 'example.txt' was not found.\")\n",
        "    except Exception as e:\n",
        "        print(f\"Unexpected error: {e}\")\n",
        "\n",
        "# Run the function\n",
        "process_input()\n",
        "\n"
      ],
      "metadata": {
        "id": "zrcVEtQ9Z9in"
      },
      "execution_count": null,
      "outputs": []
    },
    {
      "cell_type": "markdown",
      "source": [
        "13. How would you check if a file exists before attempting to read it in Python ?"
      ],
      "metadata": {
        "id": "T2nq0YmbZTYt"
      }
    },
    {
      "cell_type": "code",
      "source": [
        "import os\n",
        "\n",
        "filename = \"example.txt\"\n",
        "\n",
        "if os.path.exists(filename):\n",
        "    with open(filename, \"r\") as file:\n",
        "        content = file.read()\n",
        "        print(content)\n",
        "else:\n",
        "    print(f\"Error: The file '{filename}' does not exist.\")\n"
      ],
      "metadata": {
        "colab": {
          "base_uri": "https://localhost:8080/"
        },
        "id": "xvog62HDaFqJ",
        "outputId": "afa9d104-dadf-432e-fd36-144178c31b9c"
      },
      "execution_count": 20,
      "outputs": [
        {
          "output_type": "stream",
          "name": "stdout",
          "text": [
            "Hello, this is a test string.\n",
            "This line is added at the end of the file.\n",
            "This line is added at the end of the file.\n"
          ]
        }
      ]
    },
    {
      "cell_type": "markdown",
      "source": [
        "14.  Write a program that uses the logging module to log both informational and error messages ."
      ],
      "metadata": {
        "id": "oUsVYpTjabYw"
      }
    },
    {
      "cell_type": "code",
      "source": [
        "import logging\n",
        "\n",
        "# Configure logging\n",
        "logging.basicConfig(\n",
        "    filename='app_log.txt',\n",
        "    level=logging.DEBUG,  # Logs everything from DEBUG and above\n",
        "    format='%(asctime)s - %(levelname)s - %(message)s'\n",
        ")\n",
        "\n",
        "def divide(a, b):\n",
        "    logging.info(f\"Attempting to divide {a} by {b}\")\n",
        "    try:\n",
        "        result = a / b\n",
        "        logging.info(f\"Division successful: {result}\")\n",
        "        return result\n",
        "    except ZeroDivisionError as e:\n",
        "        logging.error(\"Division by zero error\", exc_info=True)\n",
        "        return None\n",
        "\n",
        "# Example usage\n",
        "divide(10, 2)   # Logs INFO messages\n",
        "divide(10, 0)   # Logs ERROR message\n"
      ],
      "metadata": {
        "id": "yC4wXjkUa5jD"
      },
      "execution_count": null,
      "outputs": []
    },
    {
      "cell_type": "markdown",
      "source": [
        "15. Write a Python program that prints the content of a file and handles the case when the file is empty."
      ],
      "metadata": {
        "id": "O8DhD8IvbZeG"
      }
    },
    {
      "cell_type": "code",
      "source": [
        "def print_file_content(filename):\n",
        "    try:\n",
        "        with open(filename, 'r') as file:\n",
        "            content = file.read()\n",
        "            if content.strip():  # Check if there's any non-whitespace content\n",
        "                print(\"File Content:\\n\")\n",
        "                print(content)\n",
        "            else:\n",
        "                print(f\"The file '{filename}' is empty.\")\n",
        "    except FileNotFoundError:\n",
        "        print(f\"Error: The file '{filename}' was not found.\")\n",
        "    except PermissionError:\n",
        "        print(f\"Error: Permission denied to read '{filename}'.\")\n",
        "    except Exception as e:\n",
        "        print(f\"An unexpected error occurred: {e}\")\n",
        "\n",
        "# Example usage\n",
        "print_file_content(\"sample.txt\")\n"
      ],
      "metadata": {
        "id": "OBpyuEXUbdiI"
      },
      "execution_count": null,
      "outputs": []
    },
    {
      "cell_type": "markdown",
      "source": [
        "16.  Demonstrate how to use memory profiling to check the memory usage of a small program ."
      ],
      "metadata": {
        "id": "LJx54pI5cCdS"
      }
    },
    {
      "cell_type": "code",
      "source": [
        "from memory_profiler import profile\n",
        "\n",
        "@profile\n",
        "def create_large_list():\n",
        "    data = [x * 2 for x in range(1000000)]  # Creates a large list\n",
        "    return data\n",
        "\n",
        "if __name__ == \"__main__\":\n",
        "    create_large_list()\n",
        "\n"
      ],
      "metadata": {
        "id": "Gd1qSpjccIbJ"
      },
      "execution_count": null,
      "outputs": []
    },
    {
      "cell_type": "markdown",
      "source": [
        "17.  Write a Python program to create and write a list of numbers to a file, one number per line."
      ],
      "metadata": {
        "id": "xAUgk5oPcYFs"
      }
    },
    {
      "cell_type": "code",
      "source": [
        "\n",
        "numbers = [10, 20, 30, 40, 50]\n",
        "with open(\"numbers.txt\", \"w\") as file:\n",
        "    for num in numbers:\n",
        "        file.write(str(num) + \"\\n\")\n",
        "print(\"Numbers have been written to 'numbers.txt'\")\n"
      ],
      "metadata": {
        "colab": {
          "base_uri": "https://localhost:8080/"
        },
        "id": "2wzFZWbFeU5e",
        "outputId": "b3808ef0-8c2a-4ce5-f6fd-c92147bf4f7d"
      },
      "execution_count": 21,
      "outputs": [
        {
          "output_type": "stream",
          "name": "stdout",
          "text": [
            "Numbers have been written to 'numbers.txt'\n"
          ]
        }
      ]
    },
    {
      "cell_type": "markdown",
      "source": [
        "18.  How would you implement a basic logging setup that logs to a file with rotation after 1MB ?"
      ],
      "metadata": {
        "id": "j7fuUGAceeuY"
      }
    },
    {
      "cell_type": "code",
      "source": [
        "import logging\n",
        "from logging.handlers import RotatingFileHandler\n",
        "\n",
        "# Set up a rotating file handler\n",
        "log_handler = RotatingFileHandler(\n",
        "    filename='app.log',\n",
        "    maxBytes=1_000_000,  # 1MB\n",
        "    backupCount=3        # Keep up to 3 old log files\n",
        ")\n",
        "\n",
        "# Configure logging format and level\n",
        "formatter = logging.Formatter('%(asctime)s - %(levelname)s - %(message)s')\n",
        "log_handler.setFormatter(formatter)\n",
        "\n",
        "logger = logging.getLogger('MyLogger')\n",
        "logger.setLevel(logging.DEBUG)\n",
        "logger.addHandler(log_handler)\n",
        "\n",
        "# Example log messages\n",
        "logger.info(\"Application started.\")\n",
        "for i in range(10000):\n",
        "    logger.debug(f\"Debug message #{i}\")\n",
        "logger.error(\"An error occurred.\")\n"
      ],
      "metadata": {
        "id": "nMOrg0qOeiuU"
      },
      "execution_count": null,
      "outputs": []
    },
    {
      "cell_type": "markdown",
      "source": [
        "19. Write a program that handles both IndexError and KeyError using a try-except block."
      ],
      "metadata": {
        "id": "DYs7k1cEetLo"
      }
    },
    {
      "cell_type": "code",
      "source": [
        "# Sample list and dictionary\n",
        "numbers = [10, 20, 30]\n",
        "student = {\"name\": \"Alice\", \"age\": 21}\n",
        "\n",
        "try:\n",
        "    # This may raise IndexError\n",
        "    print(\"Number at index 5:\", numbers[5])\n",
        "\n",
        "    # This may raise KeyError\n",
        "    print(\"Student Grade:\", student[\"grade\"])\n",
        "\n",
        "except IndexError:\n",
        "    print(\"Error: Tried to access a list index that doesn’t exist.\")\n",
        "\n",
        "except KeyError as e:\n",
        "    print(f\"Error: The key '{e}' does not exist in the dictionary.\")\n",
        "\n",
        "except Exception as e:\n",
        "    print(f\"An unexpected error occurred: {e}\")\n"
      ],
      "metadata": {
        "id": "tLWfnrrqfTWY"
      },
      "execution_count": null,
      "outputs": []
    },
    {
      "cell_type": "markdown",
      "source": [
        "20. How would you open a file and read its contents using a context manager in Python ?"
      ],
      "metadata": {
        "id": "Au1gus0Rfq3w"
      }
    },
    {
      "cell_type": "code",
      "source": [
        "filename = \"example.txt\"\n",
        "\n",
        "with open(filename, \"r\") as file:\n",
        "    content = file.read()\n",
        "    print(content)\n"
      ],
      "metadata": {
        "colab": {
          "base_uri": "https://localhost:8080/"
        },
        "id": "WAj-vCDhfx0O",
        "outputId": "b3fc7f91-c4cd-463b-b417-48d05949cdde"
      },
      "execution_count": 23,
      "outputs": [
        {
          "output_type": "stream",
          "name": "stdout",
          "text": [
            "Hello, this is a test string.\n",
            "This line is added at the end of the file.\n",
            "This line is added at the end of the file.\n"
          ]
        }
      ]
    },
    {
      "cell_type": "markdown",
      "source": [
        "21.  Write a Python program that reads a file and prints the number of occurrences of a specific word ."
      ],
      "metadata": {
        "id": "yA4r5WPzf7Cq"
      }
    },
    {
      "cell_type": "code",
      "source": [
        "def count_word_occurrences(filename, word):\n",
        "    try:\n",
        "        with open(filename, \"r\") as file:\n",
        "            content = file.read().lower()   # read entire file, lowercase for case-insensitive search\n",
        "            word = word.lower()\n",
        "            count = content.split().count(word)\n",
        "            print(f\"The word '{word}' occurs {count} times in '{filename}'.\")\n",
        "    except FileNotFoundError:\n",
        "        print(f\"Error: The file '{filename}' does not exist.\")\n",
        "    except Exception as e:\n",
        "        print(f\"An unexpected error occurred: {e}\")\n",
        "\n",
        "# Example usage\n",
        "count_word_occurrences(\"example.txt\", \"Python\")\n"
      ],
      "metadata": {
        "colab": {
          "base_uri": "https://localhost:8080/"
        },
        "id": "0_WO3aYtgSX9",
        "outputId": "ffb4aaef-c1f0-42ea-f7cc-a1b8216da9a8"
      },
      "execution_count": 24,
      "outputs": [
        {
          "output_type": "stream",
          "name": "stdout",
          "text": [
            "The word 'python' occurs 0 times in 'example.txt'.\n"
          ]
        }
      ]
    },
    {
      "cell_type": "markdown",
      "source": [
        "22.  How can you check if a file is empty before attempting to read its contents ?"
      ],
      "metadata": {
        "id": "q96XpIQdgaZO"
      }
    },
    {
      "cell_type": "code",
      "source": [
        "import os\n",
        "\n",
        "filename = \"example.txt\"\n",
        "\n",
        "if os.path.getsize(filename) == 0:\n",
        "    print(f\"The file '{filename}' is empty.\")\n",
        "else:\n",
        "    with open(filename, \"r\") as file:\n",
        "        print(file.read())\n"
      ],
      "metadata": {
        "colab": {
          "base_uri": "https://localhost:8080/"
        },
        "id": "lbcEPz62gn85",
        "outputId": "551bb54a-8a24-4401-f258-b5b737ca9156"
      },
      "execution_count": 25,
      "outputs": [
        {
          "output_type": "stream",
          "name": "stdout",
          "text": [
            "Hello, this is a test string.\n",
            "This line is added at the end of the file.\n",
            "This line is added at the end of the file.\n"
          ]
        }
      ]
    },
    {
      "cell_type": "markdown",
      "source": [
        "23.  Write a Python program that writes to a log file when an error occurs during file handling."
      ],
      "metadata": {
        "id": "6VFq17YYgtqR"
      }
    },
    {
      "cell_type": "code",
      "source": [
        "import logging\n",
        "\n",
        "# Configure logging\n",
        "logging.basicConfig(\n",
        "    filename=\"file_errors.log\",     # Log file name\n",
        "    level=logging.ERROR,            # Only log errors (and above)\n",
        "    format=\"%(asctime)s - %(levelname)s - %(message)s\"\n",
        ")\n",
        "\n",
        "def read_file(filename):\n",
        "    try:\n",
        "        with open(filename, \"r\") as file:\n",
        "            content = file.read()\n",
        "            print(content)\n",
        "    except FileNotFoundError:\n",
        "        logging.error(f\"The file '{filename}' was not found.\")\n",
        "        print(f\"Error: The file '{filename}' does not exist.\")\n",
        "    except PermissionError:\n",
        "        logging.error(f\"Permission denied while accessing '{filename}'.\")\n",
        "        print(f\"Error: No permission to read '{filename}'.\")\n",
        "    except Exception as e:\n",
        "        logging.error(f\"Unexpected error with '{filename}': {e}\")\n",
        "        print(f\"An unexpected error occurred: {e}\")\n",
        "\n",
        "# Example usage\n",
        "read_file(\"missing_file.txt\")\n"
      ],
      "metadata": {
        "id": "TWiHe9Jmg1a3"
      },
      "execution_count": null,
      "outputs": []
    }
  ]
}