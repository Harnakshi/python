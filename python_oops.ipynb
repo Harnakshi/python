{
  "nbformat": 4,
  "nbformat_minor": 0,
  "metadata": {
    "colab": {
      "provenance": []
    },
    "kernelspec": {
      "name": "python3",
      "display_name": "Python 3"
    },
    "language_info": {
      "name": "python"
    }
  },
  "cells": [
    {
      "cell_type": "markdown",
      "source": [
        "1. What is Object-Oriented Programming (OOP) ?\n",
        "\n",
        "     Object-Oriented Programming (OOP) is a programming paradigm (way of writing and organizing code) that is based on the concept of objects. These objects represent real-world entities and combine two main things:\n",
        "\n",
        "     1.Data (attributes) :- What the object has\n",
        "\n",
        "     2.Methods (functions) :-  What the object can do  "
      ],
      "metadata": {
        "id": "VqLnxZHsliCx"
      }
    },
    {
      "cell_type": "markdown",
      "source": [
        "2. What is a class in OOP ?\n",
        "\n",
        "   In Object-Oriented Programming (OOP), a class is a fundamental building block that defines a blueprint for creating objects.Objects are created (or instantiated) from the class.\n"
      ],
      "metadata": {
        "id": "NboSfQQ0mHG8"
      }
    },
    {
      "cell_type": "markdown",
      "source": [
        "3. What is an object in OOP ?\n",
        "\n",
        "   An object is an instance of a class.An object is the real-world entity created using that blueprint."
      ],
      "metadata": {
        "id": "8IIhWXTVnJBl"
      }
    },
    {
      "cell_type": "markdown",
      "source": [
        "4. What is the difference between abstraction and encapsulation ?\n",
        "\n",
        "    Abstraction:- It means to hide implementation details and showing only essential features.Achieved by abstract classes.\n",
        "\n",
        "    Encapsulation:-Wrapping data (variables) and methods (functions) together into a single unit (class).Achieved by access modifiers(public,private,protected).\n",
        "    \n",
        "   "
      ],
      "metadata": {
        "id": "wKQSVr5XodLz"
      }
    },
    {
      "cell_type": "markdown",
      "source": [
        "5. What are dunder methods in Python ?\n",
        "\n",
        "    Dunder methods are Python’s way of giving objects special powers (like how +, len(), print() work on them).Dunder methods are special, built-in methods in Python.Their names always begin and end with double underscores."
      ],
      "metadata": {
        "id": "sc5b2s9Tp_oY"
      }
    },
    {
      "cell_type": "markdown",
      "source": [
        "6. Explain the concept of inheritance in OOP ?\n",
        "\n",
        "    Inheritance is an Object-Oriented Programming (OOP) concept where one class (called the child class or subclass) inherits the properties and behaviors (attributes and methods) of another class (called the parent class or superclass)."
      ],
      "metadata": {
        "id": "nN6srCmWr0lG"
      }
    },
    {
      "cell_type": "markdown",
      "source": [
        "7. What is polymorphism in OOP ?\n",
        "\n",
        "    Polymorphism comes from Greek: poly = many, morph = forms.\n",
        "    In OOP, Polymorphism means The same function or method name can have different behaviors depending on the object that calls it.In simple words: One interface, many implementations."
      ],
      "metadata": {
        "id": "3tQEEYzFsKTw"
      }
    },
    {
      "cell_type": "markdown",
      "source": [
        "8. How is encapsulation achieved in Python ?\n",
        "\n",
        "    It means wrapping the data  and methods into a single unit (class) and restricting direct access to some of the object’s components.In Python, encapsulation is mainly achieved using access modifiers (public,private,protected)."
      ],
      "metadata": {
        "id": "Ccpao2mbn-8q"
      }
    },
    {
      "cell_type": "markdown",
      "source": [
        "9. What is a constructor in Python ?\n",
        "\n",
        "    A constructor is a special method in Python that is automatically called when a new object of a class is created.Its main purpose is to initialize the object’s attributes (data members).In Python, the constructor method is always named _init_()."
      ],
      "metadata": {
        "id": "rG7cyKrAtJOB"
      }
    },
    {
      "cell_type": "markdown",
      "source": [
        "10. What are class and static methods in Python ?\n",
        "\n",
        "    Class methods:-Defined using the @classmethod decorator.First parameter is cls, which refers to the class itself\n",
        "    \n",
        "    Static method:-Defined using the @staticmethod decorator.No self or cls parameter\n"
      ],
      "metadata": {
        "id": "AoDEOTWRuGbt"
      }
    },
    {
      "cell_type": "markdown",
      "source": [
        "11. What is method overloading in Python ?\n",
        "\n",
        "    Method Overloading means having multiple methods with the same name but different number or type of parameters.But in Python, true method overloading is NOT supported.If you define the same method multiple times in a class, the last definition overrides the previous ones."
      ],
      "metadata": {
        "id": "WVPggyZAt_Ro"
      }
    },
    {
      "cell_type": "markdown",
      "source": [
        "12.  What is method overriding in OOP ?\n",
        "\n",
        "    Method Overriding happens when a child class provides its own implementation of a method that is already defined in the parent class.The method name and parameters must be the same in both parent and child."
      ],
      "metadata": {
        "id": "OKbW8nk5vaJL"
      }
    },
    {
      "cell_type": "markdown",
      "source": [
        "13. What is a property decorator in Python ?\n",
        "\n",
        "    The @property decorator in Python is used to turn a class method into a property (read-only attribute).It allows you to access methods like attributes, without using parentheses ().It’s often used to encapsulate private attributes and control how they are accessed."
      ],
      "metadata": {
        "id": "PHTG4714vxF-"
      }
    },
    {
      "cell_type": "markdown",
      "source": [
        "14. Why is polymorphism important in OOP ?\n",
        "\n",
        "    1. Code Reusability & Flexibility:-We can write general code that works with different types of objects.\n",
        "    2. Improves Readability & Maintainability:-Instead of writing many if-else conditions, polymorphism lets objects decide how to behave."
      ],
      "metadata": {
        "id": "Q_qiQvDRwmvG"
      }
    },
    {
      "cell_type": "markdown",
      "source": [
        "15. What is an abstract class in Python ?\n",
        "\n",
        "    An abstract class in Python is a class that cannot be instantiated directly.It is meant to provide a blueprint for other classes.It may contain abstract methods (methods declared but not implemented).Child classes must implement these abstract methods."
      ],
      "metadata": {
        "id": "TQ0k2aqax0vH"
      }
    },
    {
      "cell_type": "markdown",
      "source": [
        "16. What are the advantages of OOP ?\n",
        "\n",
        "    Modularity :-Code is divided into classes and objects, making it easier to organize.Each class represents a real-world entity (like Car, Student, BankAccount).This separation helps in managing large projects.\n",
        "\n",
        "    Reusability :-Through inheritance, existing classes can be reused and extended without rewriting code.\n",
        "\n",
        "    Abstraction :-Hides complex implementation details, showing only necessary features."
      ],
      "metadata": {
        "id": "qq2xr6_FyJv9"
      }
    },
    {
      "cell_type": "markdown",
      "source": [
        "17. What is the difference between a class variable and an instance variable ?\n",
        "  \n",
        "    Class variable:-A variable that belongs to the class and is shared across all objects.Only one copy exists.\n",
        "\n",
        "    Instance variable:-A variable that belongs to a specific object (instance) of the class.A separate copy is created for each object."
      ],
      "metadata": {
        "id": "LIhjx5-wy5a_"
      }
    },
    {
      "cell_type": "markdown",
      "source": [
        "18. What is multiple inheritance in Python ?\n",
        "\n",
        "    when a class inherits from more than one parent class.This allows a child class to combine features of multiple classes.Python supports multiple inheritance directly"
      ],
      "metadata": {
        "id": "9IbioedPz3Nb"
      }
    },
    {
      "cell_type": "markdown",
      "source": [
        "19. Explain the purpose of ‘’__str__’ and ‘__repr__’ ‘ methods in Python.\n",
        "\n",
        "    In Python, __str__ and __repr__ are special methods used to define how objects of a class are represented as strings.\n",
        "\n",
        "   __repr__ : To provide an unambiguous string representation of the object, ideally one that could be used to recreate the object.\n",
        "\n",
        "   __str__:To provide a readable and informative string representation of the object.\n"
      ],
      "metadata": {
        "id": "2wvT6Pnf0c21"
      }
    },
    {
      "cell_type": "markdown",
      "source": [
        "20.  What is the significance of the ‘super()’ function in Python ?\n",
        "\n",
        "    The super() function in Python is a powerful tool used primarily in object-oriented programming to call methods from a parent (or superclass) within a child (or subclass). It plays a crucial role in inheritance, especially when dealing with multiple inheritance or method overriding."
      ],
      "metadata": {
        "id": "NppL0Hnk1YjK"
      }
    },
    {
      "cell_type": "markdown",
      "source": [
        "21. What is the significance of the __del__ method in Python ?\n",
        "\n",
        "    The __del__ method in Python is a special (magic) method known as a destructor. It’s called when an object is about to be destroyed—typically when it goes out of scope and its reference count drops to zero."
      ],
      "metadata": {
        "id": "vKu5a6yU1nZF"
      }
    },
    {
      "cell_type": "markdown",
      "source": [
        "22.  What is the difference between @staticmethod and @classmethod in Python ?\n",
        "\n",
        "    @staticmethod :-Belongs to the class, but does not take self or cls as the first argument.Cannot access or modify class state or instance state.Works just like a regular function, but kept inside a class for organization.\n",
        "\n",
        "    @classmethod :-Belongs to the class and takes cls (the class itself) as the first argument.Can access and modify class variables.Often used as factory methods (methods that return class objects).\n"
      ],
      "metadata": {
        "id": "4ZoR4zE22Fjc"
      }
    },
    {
      "cell_type": "markdown",
      "source": [
        "23. How does polymorphism work in Python with inheritance ?\n",
        "\n",
        "    Polymorphism in Python—especially with inheritance—is a powerful concept that allows objects of different classes to be treated through a common interface, enabling flexibility, extensibility, and clean code design.\n",
        "\n",
        "    In Python, polymorphism is typically achieved through:\n",
        "\n",
        "    Method overriding in subclasses.\n",
        "\n",
        "    Dynamic method resolution at runtime."
      ],
      "metadata": {
        "id": "iM0LQ3gI2_jd"
      }
    },
    {
      "cell_type": "markdown",
      "source": [
        "24. What is method chaining in Python OOP ?\n",
        "\n",
        "    Method chaining means calling multiple methods on the same object like this:\n",
        "    object.method1().method2().method3()\n",
        "    \n",
        "    Each method must return self (or another object that supports the next method)."
      ],
      "metadata": {
        "id": "rAgKiSfg3owk"
      }
    },
    {
      "cell_type": "markdown",
      "source": [
        "25. What is the purpose of the __call__ method in Python ?\n",
        "\n",
        "    The __call__ method in Python is a special (magic) method that allows an instance of a class to be called like a function. This makes objects callable, meaning you can use parentheses () after the object name, just like you would with a regular function."
      ],
      "metadata": {
        "id": "ct2Ei6wW4XgC"
      }
    },
    {
      "cell_type": "markdown",
      "source": [
        "  **PRACTICAL QUESTIONS**\n"
      ],
      "metadata": {
        "id": "yujL9FCmqb47"
      }
    },
    {
      "cell_type": "markdown",
      "source": [
        " 1. Create a parent class Animal with a method speak() that prints a generic message. Create a child class Dog\n",
        "that overrides the speak() method to print \"Bark!\"."
      ],
      "metadata": {
        "id": "3Krvec4CqqIl"
      }
    },
    {
      "cell_type": "code",
      "source": [
        "class Animal:\n",
        "    def speak(self):\n",
        "        print(\"Generic animal sound\")\n",
        "\n",
        "class Dog(Animal):\n",
        "    def speak(self):\n",
        "        print(\"Bark!\")\n",
        "\n",
        "animal = Animal()\n",
        "dog = Dog()\n",
        "\n",
        "animal.speak()\n",
        "dog.speak()"
      ],
      "metadata": {
        "colab": {
          "base_uri": "https://localhost:8080/"
        },
        "id": "5Z_FA1eFq5BG",
        "outputId": "7b0ebca0-5fbd-40b6-f01c-d5fe334fb1c1"
      },
      "execution_count": 1,
      "outputs": [
        {
          "output_type": "stream",
          "name": "stdout",
          "text": [
            "Generic animal sound\n",
            "Bark!\n"
          ]
        }
      ]
    },
    {
      "cell_type": "markdown",
      "source": [
        " 2. Write a program to create an abstract class Shape with a method area(). Derive classes Circle and Rectangle\n",
        "from it and implement the area() method in both."
      ],
      "metadata": {
        "id": "42sFpsP0qiO1"
      }
    },
    {
      "cell_type": "code",
      "metadata": {
        "colab": {
          "base_uri": "https://localhost:8080/"
        },
        "id": "c5835f06",
        "outputId": "d7d26e8c-ce07-4ef2-f4a6-536ab73e3474"
      },
      "source": [
        "from abc import ABC, abstractmethod\n",
        "import math\n",
        "\n",
        "class Shape(ABC):\n",
        "    @abstractmethod\n",
        "    def area(self):\n",
        "        pass\n",
        "\n",
        "class Circle(Shape):\n",
        "    def __init__(self, radius):\n",
        "        self.radius = radius\n",
        "\n",
        "    def area(self):\n",
        "        return math.pi * self.radius**2\n",
        "\n",
        "class Rectangle(Shape):\n",
        "    def __init__(self, length, width):\n",
        "        self.length = length\n",
        "        self.width = width\n",
        "\n",
        "    def area(self):\n",
        "        return self.length * self.width\n",
        "\n",
        "\n",
        "circle = Circle(5)\n",
        "rectangle = Rectangle(4, 6)\n",
        "\n",
        "print(f\"Area of Circle: {circle.area()}\")\n",
        "print(f\"Area of Rectangle: {rectangle.area()}\")"
      ],
      "execution_count": 2,
      "outputs": [
        {
          "output_type": "stream",
          "name": "stdout",
          "text": [
            "Area of Circle: 78.53981633974483\n",
            "Area of Rectangle: 24\n"
          ]
        }
      ]
    },
    {
      "cell_type": "markdown",
      "source": [
        " 3. Implement a multi-level inheritance scenario where a class Vehicle has an attribute type. Derive a class Car\n",
        "and further derive a class ElectricCar that adds a battery attribute."
      ],
      "metadata": {
        "id": "HtILjHIUrrkb"
      }
    },
    {
      "cell_type": "code",
      "metadata": {
        "colab": {
          "base_uri": "https://localhost:8080/"
        },
        "id": "5eca1330",
        "outputId": "4c8c7ee1-3c1b-464f-bd75-e0dafae4f814"
      },
      "source": [
        "class Vehicle:\n",
        "    def __init__(self, type):\n",
        "        self.type = type\n",
        "\n",
        "class Car(Vehicle):\n",
        "    def __init__(self, type, model):\n",
        "        super().__init__(type)\n",
        "        self.model = model\n",
        "\n",
        "class ElectricCar(Car):\n",
        "    def __init__(self, type, model, battery_capacity):\n",
        "        super().__init__(type, model)\n",
        "        self.battery_capacity = battery_capacity\n",
        "\n",
        "my_electric_car = ElectricCar(\"Electric Car\", \"Tesla Model S\", \"100 kWh\")\n",
        "\n",
        "print(f\"Vehicle type: {my_electric_car.type}\")\n",
        "print(f\"Car model: {my_electric_car.model}\")\n",
        "print(f\"Battery capacity: {my_electric_car.battery_capacity}\")"
      ],
      "execution_count": 3,
      "outputs": [
        {
          "output_type": "stream",
          "name": "stdout",
          "text": [
            "Vehicle type: Electric Car\n",
            "Car model: Tesla Model S\n",
            "Battery capacity: 100 kWh\n"
          ]
        }
      ]
    },
    {
      "cell_type": "markdown",
      "source": [
        " 4. Demonstrate polymorphism by creating a base class Bird with a method fly(). Create two derived classes\n",
        "Sparrow and Penguin that override the fly() method."
      ],
      "metadata": {
        "id": "UBR9In3jr5vm"
      }
    },
    {
      "cell_type": "code",
      "metadata": {
        "colab": {
          "base_uri": "https://localhost:8080/"
        },
        "id": "39ce7a00",
        "outputId": "ed00d226-ce9e-4cef-9634-a9d7f5e7d91a"
      },
      "source": [
        "class Bird:\n",
        "    def fly(self):\n",
        "        print(\"Most birds can fly\")\n",
        "\n",
        "class Sparrow(Bird):\n",
        "    def fly(self):\n",
        "        print(\"Sparrows fly at moderate speeds\")\n",
        "\n",
        "class Penguin(Bird):\n",
        "    def fly(self):\n",
        "        print(\"Penguins cannot fly (they swim instead)\")\n",
        "\n",
        "bird = Bird()\n",
        "sparrow = Sparrow()\n",
        "penguin = Penguin()\n",
        "\n",
        "bird.fly()\n",
        "sparrow.fly()\n",
        "penguin.fly()"
      ],
      "execution_count": 4,
      "outputs": [
        {
          "output_type": "stream",
          "name": "stdout",
          "text": [
            "Most birds can fly\n",
            "Sparrows fly at moderate speeds\n",
            "Penguins cannot fly (they swim instead)\n"
          ]
        }
      ]
    },
    {
      "cell_type": "markdown",
      "source": [
        "5. Write a program to demonstrate encapsulation by creating a class BankAccount with private attributes\n",
        "balance and methods to deposit, withdraw, and check balance."
      ],
      "metadata": {
        "id": "zAuuBYQisMWx"
      }
    },
    {
      "cell_type": "code",
      "source": [
        "class BankAccount:\n",
        "    def __init__(self, initial_balance=0):\n",
        "\n",
        "        self.__balance = initial_balance\n",
        "\n",
        "\n",
        "    def deposit(self, amount):\n",
        "        if amount > 0:\n",
        "            self.__balance += amount\n",
        "            print(f\"Deposited: {amount}\")\n",
        "        else:\n",
        "            print(\"Deposit amount must be positive!\")\n",
        "\n",
        "\n",
        "    def withdraw(self, amount):\n",
        "        if 0 < amount <= self.__balance:\n",
        "            self.__balance -= amount\n",
        "            print(f\"Withdrew: {amount}\")\n",
        "        else:\n",
        "            print(\"Insufficient balance or invalid amount!\")\n",
        "\n",
        "\n",
        "    def get_balance(self):\n",
        "        return self.__balance\n",
        "\n",
        "\n",
        "\n",
        "account = BankAccount(1000)\n",
        "account.deposit(500)\n",
        "account.withdraw(200)\n",
        "print(\"Current Balance:\", account.get_balance())\n"
      ],
      "metadata": {
        "colab": {
          "base_uri": "https://localhost:8080/"
        },
        "id": "IKfOWXhIsmOT",
        "outputId": "f3faef66-561d-4d25-e1a7-822167ed1eae"
      },
      "execution_count": 7,
      "outputs": [
        {
          "output_type": "stream",
          "name": "stdout",
          "text": [
            "Deposited: 500\n",
            "Withdrew: 200\n",
            "Current Balance: 1300\n"
          ]
        }
      ]
    },
    {
      "cell_type": "markdown",
      "source": [
        " 6. Demonstrate runtime polymorphism using a method play() in a base class Instrument. Derive classes Guitar\n",
        "and Piano that implement their own version of play()."
      ],
      "metadata": {
        "id": "aIt7ckVCsku3"
      }
    },
    {
      "cell_type": "code",
      "source": [
        "\n",
        "class Instrument:\n",
        "    def play(self):\n",
        "        print(\"Playing an instrument\")\n",
        "\n",
        "\n",
        "class Guitar(Instrument):\n",
        "    def play(self):\n",
        "        print(\"Strumming the guitar \")\n",
        "\n",
        "\n",
        "class Piano(Instrument):\n",
        "    def play(self):\n",
        "        print(\"Playing the piano\")\n",
        "\n",
        "\n",
        "def play_instrument(instrument):\n",
        "    instrument.play()\n",
        "\n",
        "guitar = Guitar()\n",
        "piano = Piano()\n",
        "\n",
        "play_instrument(guitar)\n",
        "play_instrument(piano)\n"
      ],
      "metadata": {
        "colab": {
          "base_uri": "https://localhost:8080/"
        },
        "id": "5yeowpZLs7-5",
        "outputId": "c62d6d3c-0129-4924-df24-fc643b8642a6"
      },
      "execution_count": 9,
      "outputs": [
        {
          "output_type": "stream",
          "name": "stdout",
          "text": [
            "Strumming the guitar \n",
            "Playing the piano\n"
          ]
        }
      ]
    },
    {
      "cell_type": "markdown",
      "source": [
        " 7. Create a class MathOperations with a class method add_numbers() to add two numbers and a static\n",
        "method subtract_numbers() to subtract two numbers."
      ],
      "metadata": {
        "id": "WX7ghJxQtUUe"
      }
    },
    {
      "cell_type": "code",
      "source": [
        "class MathOperations:\n",
        "\n",
        "    @classmethod\n",
        "    def add_numbers(cls, a, b):\n",
        "        return a + b\n",
        "\n",
        "    @staticmethod\n",
        "    def subtract_numbers(a, b):\n",
        "        return a - b\n",
        "\n",
        "sum_result = MathOperations.add_numbers(10, 5)\n",
        "print(\"Sum:\", sum_result)\n",
        "\n",
        "sub_result = MathOperations.subtract_numbers(10, 5)\n",
        "print(\"Difference:\", sub_result)\n"
      ],
      "metadata": {
        "colab": {
          "base_uri": "https://localhost:8080/"
        },
        "id": "YhaVUoM4tYkL",
        "outputId": "810ed5f7-a661-4c23-ecbe-2bfa718cad60"
      },
      "execution_count": 10,
      "outputs": [
        {
          "output_type": "stream",
          "name": "stdout",
          "text": [
            "Sum: 15\n",
            "Difference: 5\n"
          ]
        }
      ]
    },
    {
      "cell_type": "markdown",
      "source": [
        " 8. Implement a class Person with a class method to count the total number of persons created."
      ],
      "metadata": {
        "id": "eRZ-mh29tUGH"
      }
    },
    {
      "cell_type": "code",
      "source": [
        "class Person:\n",
        "\n",
        "    count = 0\n",
        "\n",
        "    def __init__(self, name):\n",
        "        self.name = name\n",
        "        Person.count += 1\n",
        "\n",
        "    @classmethod\n",
        "    def total_persons(cls):\n",
        "        return cls.count\n",
        "\n",
        "p1 = Person(\"Alice\")\n",
        "p2 = Person(\"Bob\")\n",
        "p3 = Person(\"Charlie\")\n",
        "\n",
        "print(\"Total persons created:\", Person.total_persons())\n"
      ],
      "metadata": {
        "colab": {
          "base_uri": "https://localhost:8080/"
        },
        "id": "5lQdabOGtpVd",
        "outputId": "abdabb3f-4339-4fa2-bf76-849d5f0a7463"
      },
      "execution_count": 11,
      "outputs": [
        {
          "output_type": "stream",
          "name": "stdout",
          "text": [
            "Total persons created: 3\n"
          ]
        }
      ]
    },
    {
      "cell_type": "markdown",
      "source": [
        " 9. Write a class Fraction with attributes numerator and denominator. Override the str method to display the\n",
        "fraction as \"numerator/denominator\"."
      ],
      "metadata": {
        "id": "P0XJgnNuuVyp"
      }
    },
    {
      "cell_type": "code",
      "source": [
        "class Fraction:\n",
        "    def __init__(self, numerator, denominator):\n",
        "        self.numerator = numerator\n",
        "        self.denominator = denominator\n",
        "\n",
        "    def __str__(self):\n",
        "        return f\"{self.numerator}/{self.denominator}\"\n",
        "\n",
        "f1 = Fraction(3, 4)\n",
        "f2 = Fraction(7, 8)\n",
        "\n",
        "print(f1)\n",
        "print(f2)\n"
      ],
      "metadata": {
        "colab": {
          "base_uri": "https://localhost:8080/"
        },
        "id": "sIgg22y9uZhb",
        "outputId": "406b7f1a-4dfa-47b2-efef-5f870dff8b17"
      },
      "execution_count": 12,
      "outputs": [
        {
          "output_type": "stream",
          "name": "stdout",
          "text": [
            "3/4\n",
            "7/8\n"
          ]
        }
      ]
    },
    {
      "cell_type": "markdown",
      "source": [
        " 10. Demonstrate operator overloading by creating a class Vector and overriding the add method to add two\n",
        "vectors."
      ],
      "metadata": {
        "id": "Eh-P6KpYvIQM"
      }
    },
    {
      "cell_type": "code",
      "source": [
        "class Vector:\n",
        "    def __init__(self, x, y):\n",
        "        self.x = x\n",
        "        self.y = y\n",
        "\n",
        "    def __str__(self):\n",
        "        return f\"({self.x}, {self.y})\"\n",
        "\n",
        "    def __add__(self, other):\n",
        "        return Vector(self.x + other.x, self.y + other.y)\n",
        "\n",
        "v1 = Vector(2, 3)\n",
        "v2 = Vector(4, 5)\n",
        "\n",
        "v3 = v1 + v2\n",
        "\n",
        "print(\"Vector 1:\", v1)\n",
        "print(\"Vector 2:\", v2)\n",
        "print(\"Sum of Vectors:\", v3)\n"
      ],
      "metadata": {
        "colab": {
          "base_uri": "https://localhost:8080/"
        },
        "id": "Q-4JGtjKvMVH",
        "outputId": "045a8f59-e9e8-46aa-e7e6-1182236a27aa"
      },
      "execution_count": 13,
      "outputs": [
        {
          "output_type": "stream",
          "name": "stdout",
          "text": [
            "Vector 1: (2, 3)\n",
            "Vector 2: (4, 5)\n",
            "Sum of Vectors: (6, 8)\n"
          ]
        }
      ]
    },
    {
      "cell_type": "markdown",
      "source": [
        " 11. Create a class Person with attributes name and age. Add a method greet() that prints \"Hello, my name is\n",
        "{name} and I am {age} years old.\""
      ],
      "metadata": {
        "id": "2F2w66w6vdMZ"
      }
    },
    {
      "cell_type": "code",
      "source": [
        "class Person:\n",
        "    def __init__(self, name, age):\n",
        "        self.name = name\n",
        "        self.age = age\n",
        "\n",
        "    def greet(self):\n",
        "        print(f\"Hello, my name is {self.name} and I am {self.age} years old.\")\n",
        "\n",
        "p1 = Person(\"Alice\", 25)\n",
        "p2 = Person(\"Bob\", 30)\n",
        "\n",
        "p1.greet()\n",
        "p2.greet()\n"
      ],
      "metadata": {
        "colab": {
          "base_uri": "https://localhost:8080/"
        },
        "id": "kehi1NoIvek9",
        "outputId": "37acb883-4da2-4f1a-82c7-5d7480f0dfb8"
      },
      "execution_count": 14,
      "outputs": [
        {
          "output_type": "stream",
          "name": "stdout",
          "text": [
            "Hello, my name is Alice and I am 25 years old.\n",
            "Hello, my name is Bob and I am 30 years old.\n"
          ]
        }
      ]
    },
    {
      "cell_type": "markdown",
      "source": [
        " 12. Implement a class Student with attributes name and grades. Create a method average_grade() to compute\n",
        "the average of the grades."
      ],
      "metadata": {
        "id": "_xzWGti-vl1C"
      }
    },
    {
      "cell_type": "code",
      "source": [
        "class Student:\n",
        "    def __init__(self, name, grades):\n",
        "        self.name = name\n",
        "        self.grades = grades   # list of numbers\n",
        "\n",
        "    def average_grade(self):\n",
        "        if len(self.grades) == 0:\n",
        "            return 0   # Avoid division by zero\n",
        "        return sum(self.grades) / len(self.grades)\n",
        "\n",
        "s1 = Student(\"Alice\", [85, 90, 78])\n",
        "s2 = Student(\"Bob\", [92, 88, 95, 100])\n",
        "\n",
        "print(f\"{s1.name}'s average grade:\", s1.average_grade())\n",
        "print(f\"{s2.name}'s average grade:\", s2.average_grade())\n"
      ],
      "metadata": {
        "colab": {
          "base_uri": "https://localhost:8080/"
        },
        "id": "lZ1xMUuav1M5",
        "outputId": "6eaaf5f9-1cc7-4534-873c-4ef7b1f38e74"
      },
      "execution_count": 15,
      "outputs": [
        {
          "output_type": "stream",
          "name": "stdout",
          "text": [
            "Alice's average grade: 84.33333333333333\n",
            "Bob's average grade: 93.75\n"
          ]
        }
      ]
    },
    {
      "cell_type": "markdown",
      "source": [
        " 13. Create a class Rectangle with methods set_dimensions() to set the dimensions and area() to calculate the\n",
        "area."
      ],
      "metadata": {
        "id": "Pf-D8Mytv5Ek"
      }
    },
    {
      "cell_type": "code",
      "source": [
        "class Rectangle:\n",
        "    def __init__(self):\n",
        "        self.length = 0\n",
        "        self.width = 0\n",
        "\n",
        "    def set_dimensions(self, length, width):\n",
        "        self.length = length\n",
        "        self.width = width\n",
        "\n",
        "    def area(self):\n",
        "        return self.length * self.width\n",
        "\n",
        "rect = Rectangle()\n",
        "rect.set_dimensions(10, 5)\n",
        "print(\"Area of rectangle:\", rect.area())\n"
      ],
      "metadata": {
        "colab": {
          "base_uri": "https://localhost:8080/"
        },
        "id": "S9u1xvCov-Ph",
        "outputId": "588e35b4-f0b1-43dd-e721-4ae64fa1f5ce"
      },
      "execution_count": 16,
      "outputs": [
        {
          "output_type": "stream",
          "name": "stdout",
          "text": [
            "Area of rectangle: 50\n"
          ]
        }
      ]
    },
    {
      "cell_type": "markdown",
      "source": [
        "14. Create a class Employee with a method calculate_salary() that computes the salary based on hours worked\n",
        "and hourly rate. Create a derived class Manager that adds a bonus to the salary."
      ],
      "metadata": {
        "id": "Mk5EYFhZwc3B"
      }
    },
    {
      "cell_type": "code",
      "source": [
        "class Employee:\n",
        "    def __init__(self, name, hours_worked, hourly_rate):\n",
        "        self.name = name\n",
        "        self.hours_worked = hours_worked\n",
        "        self.hourly_rate = hourly_rate\n",
        "\n",
        "    def calculate_salary(self):\n",
        "        return self.hours_worked * self.hourly_rate\n",
        "\n",
        "class Manager(Employee):\n",
        "    def __init__(self, name, hours_worked, hourly_rate, bonus):\n",
        "        super().__init__(name, hours_worked, hourly_rate)\n",
        "        self.bonus = bonus\n",
        "\n",
        "    def calculate_salary(self):\n",
        "        base_salary = super().calculate_salary()\n",
        "        return base_salary + self.bonus\n",
        "\n",
        "emp = Employee(\"Alice\", 40, 20)\n",
        "mgr = Manager(\"Bob\", 40, 30, 500)\n",
        "\n",
        "print(f\"{emp.name}'s Salary:\", emp.calculate_salary())\n",
        "print(f\"{mgr.name}'s Salary:\", mgr.calculate_salary())\n"
      ],
      "metadata": {
        "colab": {
          "base_uri": "https://localhost:8080/"
        },
        "id": "VjnPjI1HwhOA",
        "outputId": "b32fbda1-7428-4b76-d142-ab9293e57eef"
      },
      "execution_count": 17,
      "outputs": [
        {
          "output_type": "stream",
          "name": "stdout",
          "text": [
            "Alice's Salary: 800\n",
            "Bob's Salary: 1700\n"
          ]
        }
      ]
    },
    {
      "cell_type": "markdown",
      "source": [
        "15. Create a class Product with attributes name, price, and quantity. Implement a method total_price() that\n",
        "calculates the total price of the product.\n"
      ],
      "metadata": {
        "id": "mrX0ZH7RwuxR"
      }
    },
    {
      "cell_type": "code",
      "source": [
        "class Product:\n",
        "    def __init__(self, name, price, quantity):\n",
        "        self.name = name\n",
        "        self.price = price\n",
        "        self.quantity = quantity\n",
        "\n",
        "    def total_price(self):\n",
        "        return self.price * self.quantity\n",
        "\n",
        "p1 = Product(\"Laptop\", 50000, 2)\n",
        "p2 = Product(\"Phone\", 20000, 3)\n",
        "\n",
        "print(f\"Total price of {p1.name}: ₹{p1.total_price()}\")\n",
        "print(f\"Total price of {p2.name}: ₹{p2.total_price()}\")\n"
      ],
      "metadata": {
        "colab": {
          "base_uri": "https://localhost:8080/"
        },
        "id": "V9enoE9yw0jj",
        "outputId": "0f4c7745-c318-4d10-fbb6-c951fd6d44bf"
      },
      "execution_count": 18,
      "outputs": [
        {
          "output_type": "stream",
          "name": "stdout",
          "text": [
            "Total price of Laptop: ₹100000\n",
            "Total price of Phone: ₹60000\n"
          ]
        }
      ]
    },
    {
      "cell_type": "markdown",
      "source": [
        " 16. Create a class Animal with an abstract method sound(). Create two derived classes Cow and Sheep that\n",
        "implement the sound() method."
      ],
      "metadata": {
        "id": "RZfJIww5w8i5"
      }
    },
    {
      "cell_type": "code",
      "source": [
        "from abc import ABC, abstractmethod\n",
        "class Animal(ABC):\n",
        "    @abstractmethod\n",
        "    def sound(self):\n",
        "        pass\n",
        "\n",
        "class Cow(Animal):\n",
        "    def sound(self):\n",
        "        return \"Moo\"\n",
        "\n",
        "class Sheep(Animal):\n",
        "    def sound(self):\n",
        "        return \"Baa\"\n",
        "\n",
        "if __name__ == \"__main__\":\n",
        "    cow = Cow()\n",
        "    sheep = Sheep()\n",
        "\n",
        "    print(\"Cow sound:\", cow.sound())\n",
        "    print(\"Sheep sound:\", sheep.sound())\n"
      ],
      "metadata": {
        "colab": {
          "base_uri": "https://localhost:8080/"
        },
        "id": "OmH-JFV4xBR_",
        "outputId": "6df4d725-351e-4b41-dffa-fd6026d865ea"
      },
      "execution_count": 19,
      "outputs": [
        {
          "output_type": "stream",
          "name": "stdout",
          "text": [
            "Cow sound: Moo\n",
            "Sheep sound: Baa\n"
          ]
        }
      ]
    },
    {
      "cell_type": "markdown",
      "source": [
        " 17. Create a class Book with attributes title, author, and year_published. Add a method get_book_info() that\n",
        "returns a formatted string with the book's details."
      ],
      "metadata": {
        "id": "aQs1mNs7xVql"
      }
    },
    {
      "cell_type": "code",
      "source": [
        "class Book:\n",
        "    def __init__(self, title, author, year_published):\n",
        "        self.title = title\n",
        "        self.author = author\n",
        "        self.year_published = year_published\n",
        "\n",
        "    def get_book_info(self):\n",
        "        return f\"'{self.title}' by {self.author}, published in {self.year_published}\"\n",
        "\n",
        "book1 = Book(\"To Kill a Mockingbird\", \"Harper Lee\", 1960)\n",
        "book2 = Book(\"1984\", \"George Orwell\", 1949)\n",
        "\n",
        "print(book1.get_book_info())\n",
        "print(book2.get_book_info())\n"
      ],
      "metadata": {
        "colab": {
          "base_uri": "https://localhost:8080/"
        },
        "id": "pGMB9J9bxjCg",
        "outputId": "d822cb73-07f3-449f-eb5b-4c17d6225355"
      },
      "execution_count": 20,
      "outputs": [
        {
          "output_type": "stream",
          "name": "stdout",
          "text": [
            "'To Kill a Mockingbird' by Harper Lee, published in 1960\n",
            "'1984' by George Orwell, published in 1949\n"
          ]
        }
      ]
    },
    {
      "cell_type": "markdown",
      "source": [
        " 18. Create a class House with attributes address and price. Create a derived class Mansion that adds an\n",
        "attribute number_of_rooms."
      ],
      "metadata": {
        "id": "LoAMYqbExqf7"
      }
    },
    {
      "cell_type": "code",
      "source": [
        "class House:\n",
        "    def __init__(self, address, price):\n",
        "        self.address = address\n",
        "        self.price = price\n",
        "\n",
        "    def get_info(self):\n",
        "        return f\"House located at {self.address}, priced at {self.price}.\"\n",
        "\n",
        "class Mansion(House):\n",
        "    def __init__(self, address, price, number_of_rooms):\n",
        "\n",
        "        super().__init__(address, price)\n",
        "        self.number_of_rooms = number_of_rooms\n",
        "\n",
        "    def get_info(self):\n",
        "        return (f\"Mansion located at {self.address}, priced at {self.price}, \"\n",
        "                f\"with {self.number_of_rooms} rooms.\")\n",
        "\n",
        "house1 = House(\"123 Green Street\", 500000)\n",
        "mansion1 = Mansion(\"456 Luxury Ave\", 5000000, 12)\n",
        "\n",
        "print(house1.get_info())\n",
        "print(mansion1.get_info())\n"
      ],
      "metadata": {
        "colab": {
          "base_uri": "https://localhost:8080/"
        },
        "id": "33DTcDbTxzL9",
        "outputId": "c56d0cf7-f2b7-4e4e-b682-6b46314a0844"
      },
      "execution_count": 21,
      "outputs": [
        {
          "output_type": "stream",
          "name": "stdout",
          "text": [
            "House located at 123 Green Street, priced at 500000.\n",
            "Mansion located at 456 Luxury Ave, priced at 5000000, with 12 rooms.\n"
          ]
        }
      ]
    }
  ]
}