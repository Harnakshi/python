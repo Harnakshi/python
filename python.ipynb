{
  "nbformat": 4,
  "nbformat_minor": 0,
  "metadata": {
    "colab": {
      "provenance": []
    },
    "kernelspec": {
      "name": "python3",
      "display_name": "Python 3"
    },
    "language_info": {
      "name": "python"
    }
  },
  "cells": [
    {
      "cell_type": "markdown",
      "source": [],
      "metadata": {
        "id": "Brp91rWXia-O"
      }
    },
    {
      "cell_type": "markdown",
      "source": [
        "python\n",
        "\n",
        "i am harnakhsi"
      ],
      "metadata": {
        "id": "Z0_lIuozidf8"
      }
    }
  ]
}